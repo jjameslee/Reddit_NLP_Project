{
 "cells": [
  {
   "cell_type": "markdown",
   "metadata": {},
   "source": [
    "### Quick Recap:\n",
    "In the previous notebook, we preprocessed the data to have it set up for modeling. We identified 20 key words from each subreddit and interpreted a few of them to see what insights we can gain for the purpose of our problem statement and narrative.  \n",
    "This is what we have interpreted so far:\n",
    "\n",
    "* Many fans of Blackpink seem to have issues with the management of YG when it comes to handling Blackpink's promotion \n",
    "* Fans are frusterated over YG's lack of consistently promoting Blackpink throughout the year to capitalize on their popularity\n",
    "* One the other hand, BigHit seems to be promoting Bts consistently throughout the year to capitalize on their current trend/success.\n",
    "\n",
    "### Next Steps: \n",
    "\n",
    "In this notebook, we will begin by identifying the baseline accuracy score in order to use it as a comparison for future models' score. We will split the data for validation and training purposes. Ultimately testing and evaluating a Logistic Regression modeling technique to hopefully identify a production algorithm. Throughout this notebook, we will explain the process of the model and evaluate the outcome of the Logistic Regression model. "
   ]
  },
  {
   "cell_type": "code",
   "execution_count": 463,
   "metadata": {},
   "outputs": [],
   "source": [
    "import pandas as pd\n",
    "import numpy as np\n",
    "import matplotlib.pyplot as plt\n",
    "import pickle\n",
    "from sklearn.feature_extraction.text import CountVectorizer\n",
    "from sklearn.model_selection import train_test_split, GridSearchCV\n",
    "from sklearn.linear_model import LogisticRegression\n",
    "from sklearn.pipeline import Pipeline\n",
    "from sklearn.metrics import confusion_matrix\n",
    "\n",
    "%matplotlib inline"
   ]
  },
  {
   "cell_type": "code",
   "execution_count": 416,
   "metadata": {},
   "outputs": [
    {
     "name": "stdout",
     "output_type": "stream",
     "text": [
      "01_Push_Shift_API.ipynb      06_Random_Forest_Model.ipynb\n",
      "02_Cleaning_EDA.ipynb        \u001b[34mUntitled Folder\u001b[m\u001b[m\n",
      "03_Preprocessing.ipynb       \u001b[34massets\u001b[m\u001b[m\n",
      "04_LogReg_Model.ipynb        \u001b[34mdata\u001b[m\u001b[m\n",
      "05_Naive_Bayes_Model.ipynb\n"
     ]
    }
   ],
   "source": [
    "!ls"
   ]
  },
  {
   "cell_type": "code",
   "execution_count": 417,
   "metadata": {},
   "outputs": [
    {
     "data": {
      "text/html": [
       "<div>\n",
       "<style scoped>\n",
       "    .dataframe tbody tr th:only-of-type {\n",
       "        vertical-align: middle;\n",
       "    }\n",
       "\n",
       "    .dataframe tbody tr th {\n",
       "        vertical-align: top;\n",
       "    }\n",
       "\n",
       "    .dataframe thead th {\n",
       "        text-align: right;\n",
       "    }\n",
       "</style>\n",
       "<table border=\"1\" class=\"dataframe\">\n",
       "  <thead>\n",
       "    <tr style=\"text-align: right;\">\n",
       "      <th></th>\n",
       "      <th>body</th>\n",
       "      <th>blackpink</th>\n",
       "      <th>char_count</th>\n",
       "      <th>word_count</th>\n",
       "    </tr>\n",
       "  </thead>\n",
       "  <tbody>\n",
       "    <tr>\n",
       "      <th>0</th>\n",
       "      <td>this is something i can get behind and appreci...</td>\n",
       "      <td>1</td>\n",
       "      <td>1043</td>\n",
       "      <td>188</td>\n",
       "    </tr>\n",
       "    <tr>\n",
       "      <th>1</th>\n",
       "      <td>hold the fuck up   rock songs  i m considering...</td>\n",
       "      <td>1</td>\n",
       "      <td>75</td>\n",
       "      <td>12</td>\n",
       "    </tr>\n",
       "    <tr>\n",
       "      <th>2</th>\n",
       "      <td>what time and date is this in pdt  0 am is a b...</td>\n",
       "      <td>1</td>\n",
       "      <td>106</td>\n",
       "      <td>27</td>\n",
       "    </tr>\n",
       "    <tr>\n",
       "      <th>3</th>\n",
       "      <td>is there a list  last year i remember they str...</td>\n",
       "      <td>1</td>\n",
       "      <td>84</td>\n",
       "      <td>16</td>\n",
       "    </tr>\n",
       "    <tr>\n",
       "      <th>4</th>\n",
       "      <td>as a blink i ll wait till mv dropped  then i l...</td>\n",
       "      <td>1</td>\n",
       "      <td>149</td>\n",
       "      <td>33</td>\n",
       "    </tr>\n",
       "  </tbody>\n",
       "</table>\n",
       "</div>"
      ],
      "text/plain": [
       "                                                body  blackpink  char_count  \\\n",
       "0  this is something i can get behind and appreci...          1        1043   \n",
       "1  hold the fuck up   rock songs  i m considering...          1          75   \n",
       "2  what time and date is this in pdt  0 am is a b...          1         106   \n",
       "3  is there a list  last year i remember they str...          1          84   \n",
       "4  as a blink i ll wait till mv dropped  then i l...          1         149   \n",
       "\n",
       "   word_count  \n",
       "0         188  \n",
       "1          12  \n",
       "2          27  \n",
       "3          16  \n",
       "4          33  "
      ]
     },
     "execution_count": 417,
     "metadata": {},
     "output_type": "execute_result"
    }
   ],
   "source": [
    "df = pd.read_csv('./data/bp_bts_df_clean.csv')\n",
    "df.head()"
   ]
  },
  {
   "cell_type": "markdown",
   "metadata": {},
   "source": [
    "## Baseline Accuracy:"
   ]
  },
  {
   "cell_type": "markdown",
   "metadata": {},
   "source": [
    "Our baseline model accuracy is 51%. This means we will be correct 51% of the time if we choose that a comment is from the majority class subreddit, which in this case is the 'bangtan' subreddit."
   ]
  },
  {
   "cell_type": "code",
   "execution_count": 418,
   "metadata": {},
   "outputs": [
    {
     "data": {
      "text/plain": [
       "0.51"
      ]
     },
     "execution_count": 418,
     "metadata": {},
     "output_type": "execute_result"
    }
   ],
   "source": [
    "round(df.blackpink.value_counts(normalize=True).max(),2)"
   ]
  },
  {
   "cell_type": "markdown",
   "metadata": {},
   "source": [
    "Similar to the previous notebook, we will implement the CountVectorizer tool to have the words encored as integer counts in order to be used on a the Logistic Regression model. We will also split our data into 'X' and 'y'. The X is an object that consists of the predictor column, in this case the comments. The y will contain the binary classifier column, whether or not the comment belongs to a Blackpink subreddit or Bts subreddit."
   ]
  },
  {
   "cell_type": "code",
   "execution_count": 419,
   "metadata": {},
   "outputs": [],
   "source": [
    "X = df['body']\n",
    "y = df['blackpink']"
   ]
  },
  {
   "cell_type": "markdown",
   "metadata": {},
   "source": [
    "We will randomly split the data into training and test sets. This is done so we can train our model on the training set and then evaluate the performance of the model on unseen new data (the validation set)."
   ]
  },
  {
   "cell_type": "code",
   "execution_count": 420,
   "metadata": {},
   "outputs": [],
   "source": [
    "X_train, X_test, y_train, y_test = train_test_split(X,\n",
    "                                                    y,\n",
    "                                                    test_size=0.25,\n",
    "                                                    random_state=42,\n",
    "                                                    stratify=y)"
   ]
  },
  {
   "cell_type": "code",
   "execution_count": 421,
   "metadata": {},
   "outputs": [],
   "source": [
    "with open('./assets/stopwords.pkl','rb') as f:\n",
    "    stopwords = pickle.load(f)"
   ]
  },
  {
   "cell_type": "code",
   "execution_count": 422,
   "metadata": {},
   "outputs": [],
   "source": [
    "cvec = CountVectorizer(analyzer = \"word\",\n",
    "                             stop_words = stopwords,\n",
    "                             max_features = 100)"
   ]
  },
  {
   "cell_type": "code",
   "execution_count": 423,
   "metadata": {},
   "outputs": [],
   "source": [
    "X_train_cvec = cvec.fit_transform(X_train)\n",
    "X_test_cvec = cvec.transform(X_test)"
   ]
  },
  {
   "cell_type": "code",
   "execution_count": 424,
   "metadata": {},
   "outputs": [],
   "source": [
    "train_cvec_df = pd.DataFrame(X_train_cvec.todense(),   # b/c it is saved as a df...\n",
    "                                    columns = cvec.get_feature_names())\n",
    "test_cvec_df = pd.DataFrame(X_test_cvec.todense(), \n",
    "                            columns = cvec.get_feature_names())"
   ]
  },
  {
   "cell_type": "markdown",
   "metadata": {},
   "source": [
    "## Naive Logistic Regression\n",
    "\n",
    "We will do an initial attempt to classify the comments according to its' corresponding subreddits by utilizing the same CountVectorizer from before to the logistic regression model.\n",
    "\n",
    "The logistic model will return a predicted score between 0 and 1 that indicates the accuracy percentage of whether the model correctly predicted a given comment being from the Blackpink or BTS subreddit."
   ]
  },
  {
   "cell_type": "code",
   "execution_count": 425,
   "metadata": {},
   "outputs": [],
   "source": [
    "from sklearn.linear_model import LogisticRegression"
   ]
  },
  {
   "cell_type": "code",
   "execution_count": 426,
   "metadata": {},
   "outputs": [],
   "source": [
    "logreg = LogisticRegression()"
   ]
  },
  {
   "cell_type": "code",
   "execution_count": 427,
   "metadata": {},
   "outputs": [
    {
     "name": "stderr",
     "output_type": "stream",
     "text": [
      "/Users/jameslee/anaconda3/lib/python3.6/site-packages/sklearn/linear_model/logistic.py:433: FutureWarning: Default solver will be changed to 'lbfgs' in 0.22. Specify a solver to silence this warning.\n",
      "  FutureWarning)\n"
     ]
    },
    {
     "data": {
      "text/plain": [
       "LogisticRegression(C=1.0, class_weight=None, dual=False, fit_intercept=True,\n",
       "          intercept_scaling=1, max_iter=100, multi_class='warn',\n",
       "          n_jobs=None, penalty='l2', random_state=None, solver='warn',\n",
       "          tol=0.0001, verbose=0, warm_start=False)"
      ]
     },
     "execution_count": 427,
     "metadata": {},
     "output_type": "execute_result"
    }
   ],
   "source": [
    "logreg.fit(train_cvec_df, y_train)"
   ]
  },
  {
   "cell_type": "markdown",
   "metadata": {},
   "source": [
    "The naive Logistic Regression model gives us a test score of 61.6%. This is a 10% improvement over the baseline accuracy score; nevertheless, this is still not up to the par we want to have as our production model."
   ]
  },
  {
   "cell_type": "code",
   "execution_count": 429,
   "metadata": {},
   "outputs": [
    {
     "data": {
      "text/plain": [
       "0.6275974950185027"
      ]
     },
     "execution_count": 429,
     "metadata": {},
     "output_type": "execute_result"
    }
   ],
   "source": [
    "logreg.score(train_cvec_df, y_train)"
   ]
  },
  {
   "cell_type": "code",
   "execution_count": 430,
   "metadata": {},
   "outputs": [
    {
     "data": {
      "text/plain": [
       "0.6159265584970111"
      ]
     },
     "execution_count": 430,
     "metadata": {},
     "output_type": "execute_result"
    }
   ],
   "source": [
    "logreg.score(test_cvec_df, y_test)"
   ]
  },
  {
   "cell_type": "code",
   "execution_count": 431,
   "metadata": {},
   "outputs": [],
   "source": [
    "logreg_coef_df = pd.DataFrame(np.exp(logreg.coef_), columns=test_cvec_df.columns)"
   ]
  },
  {
   "cell_type": "code",
   "execution_count": 432,
   "metadata": {},
   "outputs": [
    {
     "data": {
      "text/html": [
       "<div>\n",
       "<style scoped>\n",
       "    .dataframe tbody tr th:only-of-type {\n",
       "        vertical-align: middle;\n",
       "    }\n",
       "\n",
       "    .dataframe tbody tr th {\n",
       "        vertical-align: top;\n",
       "    }\n",
       "\n",
       "    .dataframe thead th {\n",
       "        text-align: right;\n",
       "    }\n",
       "</style>\n",
       "<table border=\"1\" class=\"dataframe\">\n",
       "  <thead>\n",
       "    <tr style=\"text-align: right;\">\n",
       "      <th></th>\n",
       "      <th>actually</th>\n",
       "      <th>album</th>\n",
       "      <th>already</th>\n",
       "      <th>always</th>\n",
       "      <th>anyone</th>\n",
       "      <th>anything</th>\n",
       "      <th>army</th>\n",
       "      <th>around</th>\n",
       "      <th>back</th>\n",
       "      <th>best</th>\n",
       "      <th>...</th>\n",
       "      <th>video</th>\n",
       "      <th>wait</th>\n",
       "      <th>want</th>\n",
       "      <th>way</th>\n",
       "      <th>work</th>\n",
       "      <th>x200b</th>\n",
       "      <th>yeah</th>\n",
       "      <th>year</th>\n",
       "      <th>yes</th>\n",
       "      <th>yg</th>\n",
       "    </tr>\n",
       "  </thead>\n",
       "  <tbody>\n",
       "    <tr>\n",
       "      <th>0</th>\n",
       "      <td>0.841327</td>\n",
       "      <td>0.541409</td>\n",
       "      <td>1.2109</td>\n",
       "      <td>0.85841</td>\n",
       "      <td>1.050837</td>\n",
       "      <td>0.958043</td>\n",
       "      <td>0.044344</td>\n",
       "      <td>1.298249</td>\n",
       "      <td>0.816463</td>\n",
       "      <td>0.9974</td>\n",
       "      <td>...</td>\n",
       "      <td>0.981027</td>\n",
       "      <td>1.255627</td>\n",
       "      <td>0.799601</td>\n",
       "      <td>0.870285</td>\n",
       "      <td>0.852856</td>\n",
       "      <td>0.880357</td>\n",
       "      <td>1.333738</td>\n",
       "      <td>1.053007</td>\n",
       "      <td>0.890081</td>\n",
       "      <td>22.662805</td>\n",
       "    </tr>\n",
       "  </tbody>\n",
       "</table>\n",
       "<p>1 rows × 100 columns</p>\n",
       "</div>"
      ],
      "text/plain": [
       "   actually     album  already   always    anyone  anything      army  \\\n",
       "0  0.841327  0.541409   1.2109  0.85841  1.050837  0.958043  0.044344   \n",
       "\n",
       "     around      back    best  ...     video      wait      want       way  \\\n",
       "0  1.298249  0.816463  0.9974  ...  0.981027  1.255627  0.799601  0.870285   \n",
       "\n",
       "       work     x200b      yeah      year       yes         yg  \n",
       "0  0.852856  0.880357  1.333738  1.053007  0.890081  22.662805  \n",
       "\n",
       "[1 rows x 100 columns]"
      ]
     },
     "execution_count": 432,
     "metadata": {},
     "output_type": "execute_result"
    }
   ],
   "source": [
    "logreg_coef_df.head()"
   ]
  },
  {
   "cell_type": "code",
   "execution_count": 433,
   "metadata": {},
   "outputs": [],
   "source": [
    "logreg_coef_df.rename(index={0:'odds'}, inplace=True)"
   ]
  },
  {
   "cell_type": "code",
   "execution_count": 434,
   "metadata": {},
   "outputs": [
    {
     "data": {
      "text/html": [
       "<div>\n",
       "<style scoped>\n",
       "    .dataframe tbody tr th:only-of-type {\n",
       "        vertical-align: middle;\n",
       "    }\n",
       "\n",
       "    .dataframe tbody tr th {\n",
       "        vertical-align: top;\n",
       "    }\n",
       "\n",
       "    .dataframe thead th {\n",
       "        text-align: right;\n",
       "    }\n",
       "</style>\n",
       "<table border=\"1\" class=\"dataframe\">\n",
       "  <thead>\n",
       "    <tr style=\"text-align: right;\">\n",
       "      <th></th>\n",
       "      <th>odds</th>\n",
       "    </tr>\n",
       "  </thead>\n",
       "  <tbody>\n",
       "    <tr>\n",
       "      <th>yg</th>\n",
       "      <td>22.662805</td>\n",
       "    </tr>\n",
       "    <tr>\n",
       "      <th>concert</th>\n",
       "      <td>2.259355</td>\n",
       "    </tr>\n",
       "    <tr>\n",
       "      <th>tickets</th>\n",
       "      <td>1.777222</td>\n",
       "    </tr>\n",
       "    <tr>\n",
       "      <th>comeback</th>\n",
       "      <td>1.637255</td>\n",
       "    </tr>\n",
       "    <tr>\n",
       "      <th>ticket</th>\n",
       "      <td>1.473595</td>\n",
       "    </tr>\n",
       "    <tr>\n",
       "      <th>songs</th>\n",
       "      <td>1.459591</td>\n",
       "    </tr>\n",
       "    <tr>\n",
       "      <th>see</th>\n",
       "      <td>1.398562</td>\n",
       "    </tr>\n",
       "    <tr>\n",
       "      <th>group</th>\n",
       "      <td>1.375951</td>\n",
       "    </tr>\n",
       "    <tr>\n",
       "      <th>show</th>\n",
       "      <td>1.366175</td>\n",
       "    </tr>\n",
       "    <tr>\n",
       "      <th>maybe</th>\n",
       "      <td>1.358484</td>\n",
       "    </tr>\n",
       "    <tr>\n",
       "      <th>sure</th>\n",
       "      <td>1.347698</td>\n",
       "    </tr>\n",
       "    <tr>\n",
       "      <th>yeah</th>\n",
       "      <td>1.333738</td>\n",
       "    </tr>\n",
       "    <tr>\n",
       "      <th>let</th>\n",
       "      <td>1.322280</td>\n",
       "    </tr>\n",
       "    <tr>\n",
       "      <th>around</th>\n",
       "      <td>1.298249</td>\n",
       "    </tr>\n",
       "    <tr>\n",
       "      <th>looks</th>\n",
       "      <td>1.261006</td>\n",
       "    </tr>\n",
       "    <tr>\n",
       "      <th>wait</th>\n",
       "      <td>1.255627</td>\n",
       "    </tr>\n",
       "    <tr>\n",
       "      <th>getting</th>\n",
       "      <td>1.242736</td>\n",
       "    </tr>\n",
       "    <tr>\n",
       "      <th>probably</th>\n",
       "      <td>1.227413</td>\n",
       "    </tr>\n",
       "    <tr>\n",
       "      <th>new</th>\n",
       "      <td>1.222211</td>\n",
       "    </tr>\n",
       "    <tr>\n",
       "      <th>already</th>\n",
       "      <td>1.210900</td>\n",
       "    </tr>\n",
       "  </tbody>\n",
       "</table>\n",
       "</div>"
      ],
      "text/plain": [
       "               odds\n",
       "yg        22.662805\n",
       "concert    2.259355\n",
       "tickets    1.777222\n",
       "comeback   1.637255\n",
       "ticket     1.473595\n",
       "songs      1.459591\n",
       "see        1.398562\n",
       "group      1.375951\n",
       "show       1.366175\n",
       "maybe      1.358484\n",
       "sure       1.347698\n",
       "yeah       1.333738\n",
       "let        1.322280\n",
       "around     1.298249\n",
       "looks      1.261006\n",
       "wait       1.255627\n",
       "getting    1.242736\n",
       "probably   1.227413\n",
       "new        1.222211\n",
       "already    1.210900"
      ]
     },
     "execution_count": 434,
     "metadata": {},
     "output_type": "execute_result"
    }
   ],
   "source": [
    "logreg_coef_df.T.sort_values('odds',ascending=False).head(20)"
   ]
  },
  {
   "cell_type": "markdown",
   "metadata": {},
   "source": [
    "The top 20 important features (words) our naive Logistic Regression model provided us does not really give substantial information in respect to our problem statement beyond what we have already uncovered thus far. \n",
    "As a result, we will tune the hyperparameters of the CountVectorizer and try out different sets of these parameters on the Logistic Regression to get the best score result. In order to do this efficiently, we will implement pipeline and GridSearch, a tool that helps us to search for optimal sets of hyperparameters. This uses cross-validations internally to evaluate the performance of each set of given hyperparameters."
   ]
  },
  {
   "cell_type": "markdown",
   "metadata": {},
   "source": [
    "### Pipeline\n",
    "---\n",
    "\n",
    "Our pipeline will consist to two stages:\n",
    "1. An instance of `CountVectorizer`\n",
    "2. A `LogisticRegression` instance"
   ]
  },
  {
   "cell_type": "code",
   "execution_count": 374,
   "metadata": {},
   "outputs": [],
   "source": [
    "pipe = Pipeline([\n",
    "    ('cvec', CountVectorizer(analyzer='word', stop_words=stopwords)),\n",
    "    ('lr', LogisticRegression())\n",
    "    \n",
    "])"
   ]
  },
  {
   "cell_type": "markdown",
   "metadata": {},
   "source": [
    "### GridSearchCV on Logistic Regression"
   ]
  },
  {
   "cell_type": "code",
   "execution_count": 375,
   "metadata": {},
   "outputs": [
    {
     "name": "stderr",
     "output_type": "stream",
     "text": [
      "/Users/jameslee/anaconda3/lib/python3.6/site-packages/sklearn/linear_model/logistic.py:433: FutureWarning: Default solver will be changed to 'lbfgs' in 0.22. Specify a solver to silence this warning.\n",
      "  FutureWarning)\n"
     ]
    },
    {
     "name": "stdout",
     "output_type": "stream",
     "text": [
      "0.7460859664104754\n",
      "{'cvec__max_df': 0.98, 'cvec__max_features': 6500, 'cvec__min_df': 2, 'cvec__ngram_range': (1, 1)}\n",
      "Train accuracy score: 0.8865641901508682\n",
      "Test accuracy score: 0.7651579846285226\n"
     ]
    }
   ],
   "source": [
    "params = {\n",
    "    'cvec__ngram_range' : [(1,1), (2,2)],\n",
    "    'cvec__max_features': [5000, 5500, 6000, 6500], \n",
    "    'cvec__max_df' : [.98, 1.0],\n",
    "    'cvec__min_df' : [1, 2]\n",
    "    \n",
    "}\n",
    "gs = GridSearchCV(pipe, param_grid=params, cv=3)   #3 cv to save time.\n",
    "gs.fit(X_train, y_train) # also does cv in the background\n",
    "print(gs.best_score_)\n",
    "print(gs.best_params_)\n",
    "\n",
    "# Train score\n",
    "print(f'Train accuracy score: {gs.score(X_train, y_train)}')\n",
    "\n",
    "# Test score\n",
    "print(f'Test accuracy score: {gs.score(X_test, y_test)}')"
   ]
  },
  {
   "cell_type": "markdown",
   "metadata": {},
   "source": [
    "Based on the grid search for our logistic regression model, it selected 6,500 features to be the best max features, chose 1 grams as the best ngram_range, 2 min as the best minimum words, and .98 for the max df as the best maximum threshold. However, the model now has a much wider gap between the two scores and as a result, displays evidence for being more overfit with a a higher variance. Although there is a noticeable increase (25%) in the train accuracy score and test accuracy score (15%); the gap between the two scores also increased significantly from around a 2% difference to 12%."
   ]
  },
  {
   "cell_type": "markdown",
   "metadata": {},
   "source": [
    "## Improved Logistic Regression Model"
   ]
  },
  {
   "cell_type": "code",
   "execution_count": 439,
   "metadata": {},
   "outputs": [],
   "source": [
    "cvec = CountVectorizer(analyzer = \"word\",\n",
    "                       stop_words = stopwords,\n",
    "                       max_features = 6500,\n",
    "                       max_df = 0.98,\n",
    "                       min_df = 2)\n",
    "\n",
    "X_train_cvec = cvec.fit_transform(X_train)\n",
    "X_test_cvec = cvec.transform(X_test)\n",
    "\n",
    "train_cvec_df = pd.DataFrame(X_train_cvec.todense(),   # b/c it is saved as a df...\n",
    "                                    columns = cvec.get_feature_names())\n",
    "test_cvec_df = pd.DataFrame(X_test_cvec.todense(), \n",
    "                            columns = cvec.get_feature_names())"
   ]
  },
  {
   "cell_type": "code",
   "execution_count": 440,
   "metadata": {},
   "outputs": [
    {
     "name": "stderr",
     "output_type": "stream",
     "text": [
      "/Users/jameslee/anaconda3/lib/python3.6/site-packages/sklearn/linear_model/logistic.py:433: FutureWarning: Default solver will be changed to 'lbfgs' in 0.22. Specify a solver to silence this warning.\n",
      "  FutureWarning)\n"
     ]
    },
    {
     "data": {
      "text/plain": [
       "LogisticRegression(C=1.0, class_weight=None, dual=False, fit_intercept=True,\n",
       "          intercept_scaling=1, max_iter=100, multi_class='warn',\n",
       "          n_jobs=None, penalty='l2', random_state=None, solver='warn',\n",
       "          tol=0.0001, verbose=0, warm_start=False)"
      ]
     },
     "execution_count": 440,
     "metadata": {},
     "output_type": "execute_result"
    }
   ],
   "source": [
    "logreg = LogisticRegression()\n",
    "logreg.fit(train_cvec_df, y_train)"
   ]
  },
  {
   "cell_type": "code",
   "execution_count": 441,
   "metadata": {},
   "outputs": [
    {
     "data": {
      "text/plain": [
       "0.8865641901508682"
      ]
     },
     "execution_count": 441,
     "metadata": {},
     "output_type": "execute_result"
    }
   ],
   "source": [
    "logreg.score(train_cvec_df, y_train)"
   ]
  },
  {
   "cell_type": "code",
   "execution_count": 442,
   "metadata": {},
   "outputs": [
    {
     "data": {
      "text/plain": [
       "0.7651579846285226"
      ]
     },
     "execution_count": 442,
     "metadata": {},
     "output_type": "execute_result"
    }
   ],
   "source": [
    "logreg.score(test_cvec_df, y_test)"
   ]
  },
  {
   "cell_type": "code",
   "execution_count": 443,
   "metadata": {},
   "outputs": [
    {
     "data": {
      "text/plain": [
       "array([[ 0.93420506,  0.39045759, -0.14788728, ..., -0.10637096,\n",
       "         0.14834453,  0.07060858]])"
      ]
     },
     "execution_count": 443,
     "metadata": {},
     "output_type": "execute_result"
    }
   ],
   "source": [
    "logreg.coef_"
   ]
  },
  {
   "cell_type": "code",
   "execution_count": 444,
   "metadata": {},
   "outputs": [],
   "source": [
    "logreg_coef_df = pd.DataFrame(np.exp(logreg.coef_), columns=test_cvec_df.columns)"
   ]
  },
  {
   "cell_type": "code",
   "execution_count": 445,
   "metadata": {},
   "outputs": [
    {
     "data": {
      "text/html": [
       "<div>\n",
       "<style scoped>\n",
       "    .dataframe tbody tr th:only-of-type {\n",
       "        vertical-align: middle;\n",
       "    }\n",
       "\n",
       "    .dataframe tbody tr th {\n",
       "        vertical-align: top;\n",
       "    }\n",
       "\n",
       "    .dataframe thead th {\n",
       "        text-align: right;\n",
       "    }\n",
       "</style>\n",
       "<table border=\"1\" class=\"dataframe\">\n",
       "  <thead>\n",
       "    <tr style=\"text-align: right;\">\n",
       "      <th></th>\n",
       "      <th>odds</th>\n",
       "    </tr>\n",
       "  </thead>\n",
       "  <tbody>\n",
       "    <tr>\n",
       "      <th>blinks</th>\n",
       "      <td>30.495432</td>\n",
       "    </tr>\n",
       "    <tr>\n",
       "      <th>yg</th>\n",
       "      <td>23.175516</td>\n",
       "    </tr>\n",
       "    <tr>\n",
       "      <th>vip</th>\n",
       "      <td>14.039019</td>\n",
       "    </tr>\n",
       "    <tr>\n",
       "      <th>dddd</th>\n",
       "      <td>9.959107</td>\n",
       "    </tr>\n",
       "    <tr>\n",
       "      <th>square</th>\n",
       "      <td>8.940132</td>\n",
       "    </tr>\n",
       "    <tr>\n",
       "      <th>cf</th>\n",
       "      <td>8.036665</td>\n",
       "    </tr>\n",
       "    <tr>\n",
       "      <th>ga</th>\n",
       "      <td>8.001232</td>\n",
       "    </tr>\n",
       "    <tr>\n",
       "      <th>wig</th>\n",
       "      <td>6.688245</td>\n",
       "    </tr>\n",
       "    <tr>\n",
       "      <th>whistle</th>\n",
       "      <td>6.427250</td>\n",
       "    </tr>\n",
       "    <tr>\n",
       "      <th>scandal</th>\n",
       "      <td>6.421988</td>\n",
       "    </tr>\n",
       "    <tr>\n",
       "      <th>queue</th>\n",
       "      <td>6.103425</td>\n",
       "    </tr>\n",
       "    <tr>\n",
       "      <th>axs</th>\n",
       "      <td>6.045078</td>\n",
       "    </tr>\n",
       "    <tr>\n",
       "      <th>d4</th>\n",
       "      <td>5.908588</td>\n",
       "    </tr>\n",
       "    <tr>\n",
       "      <th>chanel</th>\n",
       "      <td>5.887667</td>\n",
       "    </tr>\n",
       "    <tr>\n",
       "      <th>revolution</th>\n",
       "      <td>5.829565</td>\n",
       "    </tr>\n",
       "    <tr>\n",
       "      <th>teddy</th>\n",
       "      <td>5.747268</td>\n",
       "    </tr>\n",
       "    <tr>\n",
       "      <th>area</th>\n",
       "      <td>5.729835</td>\n",
       "    </tr>\n",
       "    <tr>\n",
       "      <th>queens</th>\n",
       "      <td>5.613316</td>\n",
       "    </tr>\n",
       "    <tr>\n",
       "      <th>diaries</th>\n",
       "      <td>5.579424</td>\n",
       "    </tr>\n",
       "    <tr>\n",
       "      <th>aiiyl</th>\n",
       "      <td>5.486032</td>\n",
       "    </tr>\n",
       "  </tbody>\n",
       "</table>\n",
       "</div>"
      ],
      "text/plain": [
       "                 odds\n",
       "blinks      30.495432\n",
       "yg          23.175516\n",
       "vip         14.039019\n",
       "dddd         9.959107\n",
       "square       8.940132\n",
       "cf           8.036665\n",
       "ga           8.001232\n",
       "wig          6.688245\n",
       "whistle      6.427250\n",
       "scandal      6.421988\n",
       "queue        6.103425\n",
       "axs          6.045078\n",
       "d4           5.908588\n",
       "chanel       5.887667\n",
       "revolution   5.829565\n",
       "teddy        5.747268\n",
       "area         5.729835\n",
       "queens       5.613316\n",
       "diaries      5.579424\n",
       "aiiyl        5.486032"
      ]
     },
     "execution_count": 445,
     "metadata": {},
     "output_type": "execute_result"
    }
   ],
   "source": [
    "logreg_coef_df.rename(index={0:'odds'}, inplace=True)\n",
    "logreg_coef_df.T.sort_values('odds',ascending=False).head(20)\n",
    "\n",
    "# wig --> index:111\n",
    "# ew --> ew cover / interview (positive feedbacks from fans)\n",
    "# 134340 --> bts song pluto (fans love it due to a different feel from the norm, moves away from hiphop)"
   ]
  },
  {
   "cell_type": "code",
   "execution_count": null,
   "metadata": {},
   "outputs": [],
   "source": [
    "bp_top_20 = logreg_coef_df.T.sort_values('odds',ascending=False).head(20).odds\n",
    "bp_top_20.index"
   ]
  },
  {
   "cell_type": "code",
   "execution_count": 455,
   "metadata": {},
   "outputs": [
    {
     "data": {
      "text/plain": [
       "Text(0, 0.5, 'Words')"
      ]
     },
     "execution_count": 455,
     "metadata": {},
     "output_type": "execute_result"
    },
    {
     "data": {
      "image/png": "[encoded data removed]",
      "text/plain": [
       "<Figure size 1440x720 with 1 Axes>"
      ]
     },
     "metadata": {
      "needs_background": "light"
     },
     "output_type": "display_data"
    }
   ],
   "source": [
    "plt.figure(figsize=(20,10))\n",
    "plt.barh(bp_top_20.index, bp_top_20)\n",
    "plt.title(' 20 Most Important Features and Weights (Blackpink)', fontsize=30)\n",
    "plt.xlabel('Odds', fontsize=20)\n",
    "plt.ylabel('Words', fontsize=20)\n",
    "\n",
    "# wig --> index:111\n",
    "# ew --> ew cover / interview (positive feedbacks from fans)\n",
    "# 134340 --> bts song pluto (fans love it due to a different feel from the norm, moves away from hiphop)"
   ]
  },
  {
   "cell_type": "markdown",
   "metadata": {},
   "source": [
    "Blinks is the fandom name of Blackpink. On a subreddit of Blackpink, it makes complete sense that 'blinks' will be a very common term thrown around in comments from Blinks (BP fans). The words 'vip', 'ga', 'queue', and 'axs' all fit in the context of the upcoming concerts for Blackpink (VIP section, general area, ect). \n",
    "\n",
    "'DDDD' is the title track for Blackpink's last EP from last year (9 months ago). Based on some of the comments, we can see that many \"Western\" fans first grew to like Blackpink due to their songs like DDDD, which has strong western influences in terms of music genres (bubble-gum pop/rap & trap). These comments originate from a post on the subreddit where they discuss [Blackpink's U.S debut on Late Show with Stephen Colbert](https://www.reddit.com/r/BlackPink/comments/apra3j/190212_blackpink_ddudu_ddudu_the_late_show_with/) and though many fans express excitement over seeing their favorite group on a major U.S show, some feel as if Blackpink were not able to capitalize on capturing the average American's attention by putting on a weaker than normal performance (lip synching & lack of eccentric dance movements). Fortunately for some of the more concerned fans, Blackpink has another opportunity to perform on April 18 the [Late Late Show With James Corden](https://headlineplanet.com/home/2019/04/09/blackpink-scheduled-to-perform-on-april-18-late-late-show-with-james-corden/). We expect Blackpink to perform their newly released song that comes out on the 5th of April. Hopefully this new song contains elements similar to DDDD but with even more Western influences to capture the interest of many Americans watching the show. \n",
    "\n",
    "\n",
    "'Diaries' is referring to 'Blackpink Diaries' which is a short video series documenting parts of various activities of Blackpink members. It occasionally depicts what Blackpink members do in their off-time outside of their promotion periods as well as them bonding over going on vacations together and styling as a video blog format. Due to this format, many fans express excitement over seeing the members' bond and form a close unity on camera which creates for the viewers a form of connection to the Blackpink members on a more personal level."
   ]
  },
  {
   "cell_type": "code",
   "execution_count": 483,
   "metadata": {},
   "outputs": [
    {
     "name": "stdout",
     "output_type": "stream",
     "text": [
      "DDDD comment: totally agree with this  dddd pwf whistle or even really are definitely the most western influenced and would ve been the best choices to introduce bp to the us  also agree that cute concepts wouldn t do well here  \n"
     ]
    }
   ],
   "source": [
    "print(f'DDDD comment: {df.body[8440]}')"
   ]
  },
  {
   "cell_type": "code",
   "execution_count": 484,
   "metadata": {},
   "outputs": [
    {
     "name": "stdout",
     "output_type": "stream",
     "text": [
      "DDDD comment: really wish they d let them perform some of their older songs  fy is an alright song but i don t think it s the best choice to debut bp to a western audience  after some of the reactions to their dddd performance  which i thought was a pretty solid song for western audiences   i m nervous how people will react to fy  i m just going to stay away from comment sections lol  \n"
     ]
    }
   ],
   "source": [
    "print(f'DDDD comment: {df.body[8506]}')"
   ]
  },
  {
   "cell_type": "code",
   "execution_count": 485,
   "metadata": {},
   "outputs": [
    {
     "name": "stdout",
     "output_type": "stream",
     "text": [
      "DDDD comment: yeah i wasnt a fan of dddd but i feel that people are way too aggressive with the bp hate  majority of things the girls have absolutely 0 control over so i dont get why people blame them \n"
     ]
    }
   ],
   "source": [
    "print(f'DDDD comment: {df.body[6089]}')"
   ]
  },
  {
   "cell_type": "code",
   "execution_count": 491,
   "metadata": {},
   "outputs": [
    {
     "name": "stdout",
     "output_type": "stream",
     "text": [
      "Diaries comment: such a cute episode  i liked seeing lisa and rose s bond and i hope in another episode they show jennie and jisoo  i m so looking forward to the next episode  these diaries have been so lovely to watch  i wonder if they ll release them on a box set or something in the future \n"
     ]
    }
   ],
   "source": [
    "print(f'Diaries comment: {df.body[910]}')"
   ]
  },
  {
   "cell_type": "code",
   "execution_count": 490,
   "metadata": {},
   "outputs": [
    {
     "name": "stdout",
     "output_type": "stream",
     "text": [
      "Diaries comment: i ve so been enjoying these diaries  i must say though i thought it was so cute with jisoo s bunny  when i was younger i went on more vacation trips with my parents and always had stuffed animals and yeah the hotel staff would always play around with it and making it look cute  i just loved her giggling over that and it brought back my own nice memories with it \n"
     ]
    }
   ],
   "source": [
    "print(f'Diaries comment: {df.body[5339]}')"
   ]
  },
  {
   "cell_type": "markdown",
   "metadata": {},
   "source": []
  },
  {
   "cell_type": "code",
   "execution_count": 457,
   "metadata": {},
   "outputs": [
    {
     "data": {
      "text/html": [
       "<div>\n",
       "<style scoped>\n",
       "    .dataframe tbody tr th:only-of-type {\n",
       "        vertical-align: middle;\n",
       "    }\n",
       "\n",
       "    .dataframe tbody tr th {\n",
       "        vertical-align: top;\n",
       "    }\n",
       "\n",
       "    .dataframe thead th {\n",
       "        text-align: right;\n",
       "    }\n",
       "</style>\n",
       "<table border=\"1\" class=\"dataframe\">\n",
       "  <thead>\n",
       "    <tr style=\"text-align: right;\">\n",
       "      <th></th>\n",
       "      <th>odds</th>\n",
       "    </tr>\n",
       "  </thead>\n",
       "  <tbody>\n",
       "    <tr>\n",
       "      <th>bighit</th>\n",
       "      <td>0.044649</td>\n",
       "    </tr>\n",
       "    <tr>\n",
       "      <th>army</th>\n",
       "      <td>0.048163</td>\n",
       "    </tr>\n",
       "    <tr>\n",
       "      <th>armys</th>\n",
       "      <td>0.080366</td>\n",
       "    </tr>\n",
       "    <tr>\n",
       "      <th>persona</th>\n",
       "      <td>0.083759</td>\n",
       "    </tr>\n",
       "    <tr>\n",
       "      <th>trailer</th>\n",
       "      <td>0.091177</td>\n",
       "    </tr>\n",
       "    <tr>\n",
       "      <th>bt21</th>\n",
       "      <td>0.102280</td>\n",
       "    </tr>\n",
       "    <tr>\n",
       "      <th>president</th>\n",
       "      <td>0.104901</td>\n",
       "    </tr>\n",
       "    <tr>\n",
       "      <th>bowl</th>\n",
       "      <td>0.112519</td>\n",
       "    </tr>\n",
       "    <tr>\n",
       "      <th>134340</th>\n",
       "      <td>0.129163</td>\n",
       "    </tr>\n",
       "    <tr>\n",
       "      <th>sope</th>\n",
       "      <td>0.129984</td>\n",
       "    </tr>\n",
       "    <tr>\n",
       "      <th>mama</th>\n",
       "      <td>0.133328</td>\n",
       "    </tr>\n",
       "    <tr>\n",
       "      <th>ot7</th>\n",
       "      <td>0.136087</td>\n",
       "    </tr>\n",
       "    <tr>\n",
       "      <th>wembley</th>\n",
       "      <td>0.138306</td>\n",
       "    </tr>\n",
       "    <tr>\n",
       "      <th>ew</th>\n",
       "      <td>0.140591</td>\n",
       "    </tr>\n",
       "    <tr>\n",
       "      <th>run</th>\n",
       "      <td>0.140990</td>\n",
       "    </tr>\n",
       "    <tr>\n",
       "      <th>nj</th>\n",
       "      <td>0.142939</td>\n",
       "    </tr>\n",
       "    <tr>\n",
       "      <th>soobin</th>\n",
       "      <td>0.143933</td>\n",
       "    </tr>\n",
       "    <tr>\n",
       "      <th>bst</th>\n",
       "      <td>0.145424</td>\n",
       "    </tr>\n",
       "    <tr>\n",
       "      <th>jk</th>\n",
       "      <td>0.152186</td>\n",
       "    </tr>\n",
       "    <tr>\n",
       "      <th>handsome</th>\n",
       "      <td>0.155191</td>\n",
       "    </tr>\n",
       "  </tbody>\n",
       "</table>\n",
       "</div>"
      ],
      "text/plain": [
       "               odds\n",
       "bighit     0.044649\n",
       "army       0.048163\n",
       "armys      0.080366\n",
       "persona    0.083759\n",
       "trailer    0.091177\n",
       "bt21       0.102280\n",
       "president  0.104901\n",
       "bowl       0.112519\n",
       "134340     0.129163\n",
       "sope       0.129984\n",
       "mama       0.133328\n",
       "ot7        0.136087\n",
       "wembley    0.138306\n",
       "ew         0.140591\n",
       "run        0.140990\n",
       "nj         0.142939\n",
       "soobin     0.143933\n",
       "bst        0.145424\n",
       "jk         0.152186\n",
       "handsome   0.155191"
      ]
     },
     "execution_count": 457,
     "metadata": {},
     "output_type": "execute_result"
    }
   ],
   "source": [
    "logreg_coef_df.T.sort_values('odds',ascending=True).head(20)"
   ]
  },
  {
   "cell_type": "code",
   "execution_count": 458,
   "metadata": {},
   "outputs": [
    {
     "data": {
      "text/plain": [
       "Index(['bighit', 'army', 'armys', 'persona', 'trailer', 'bt21', 'president',\n",
       "       'bowl', '134340', 'sope', 'mama', 'ot7', 'wembley', 'ew', 'run', 'nj',\n",
       "       'soobin', 'bst', 'jk', 'handsome'],\n",
       "      dtype='object')"
      ]
     },
     "execution_count": 458,
     "metadata": {},
     "output_type": "execute_result"
    }
   ],
   "source": [
    "bts_top_20 = logreg_coef_df.T.sort_values('odds',ascending=True).head(20).odds\n",
    "bts_top_20.index"
   ]
  },
  {
   "cell_type": "code",
   "execution_count": 459,
   "metadata": {},
   "outputs": [
    {
     "data": {
      "text/plain": [
       "Text(0, 0.5, 'Words')"
      ]
     },
     "execution_count": 459,
     "metadata": {},
     "output_type": "execute_result"
    },
    {
     "data": {
      "image/png": "[encoded data removed]",
      "text/plain": [
       "<Figure size 1440x720 with 1 Axes>"
      ]
     },
     "metadata": {
      "needs_background": "light"
     },
     "output_type": "display_data"
    }
   ],
   "source": [
    "plt.figure(figsize=(20,10))\n",
    "plt.barh(bts_top_20.index, bts_top_20)\n",
    "plt.title(' 20 Most Important Features and Weights (BTS)', fontsize=30)\n",
    "plt.xlabel('odds', fontsize=20)\n",
    "plt.ylabel('Words', fontsize=20)"
   ]
  },
  {
   "cell_type": "markdown",
   "metadata": {},
   "source": [
    "Armys is the fandom name of BTS. Much like the Blackpink example, it makes sense for 'armys' to be a common word in a subreddit of BTS filled with fans of BTS. 'Persona' is referring to 'Map of the Soul: Persona' which is the upcoming album expected to be released on April 12th. Overall, the fans seem to be very excited for the new songs from BTS. One comment in particular expects the production to be top notch and admires the fact that BTS experiments with different genres of music which helps them be more attractive to a wide-range of consumers. A lot of the fans also express admiration over their song '134340' which is an asteroid number assigned by scientists to the once-former planet, Pluto. According to this [article](https://www.hellokpop.com/kpop/korean-scientists-commend-bts-134340/), the group used the \"sad news of Pluto losing its planetary status and moving away from the sun as a metaphor for loneliness and the feeling of abandonment.\" Examples like this are the reasons why many fans express respect towards BTS' artistry among most other kpop groups. \n",
    "\n"
   ]
  },
  {
   "cell_type": "code",
   "execution_count": 497,
   "metadata": {},
   "outputs": [
    {
     "name": "stdout",
     "output_type": "stream",
     "text": [
      "BTS comment: 134340 is one of my favorite songs too  i m so glad they ll get to perform it  such an underrated song  \n"
     ]
    }
   ],
   "source": [
    "print(f'BTS comment: {df.body.loc[14974]}')"
   ]
  },
  {
   "cell_type": "code",
   "execution_count": 499,
   "metadata": {},
   "outputs": [
    {
     "name": "stdout",
     "output_type": "stream",
     "text": [
      "BTS comment: i trust that no matter what genre s  they put out  the production will be top notch  i m a huge fan of rock hip hop and persona was literally the embodiment of all my favorite music  but if they go with a different direction for the rest of the album  i ll still be happy  the majority of love yourself  tear sounded happy or poppy despite supposedly being a  depressing  album  134340  love maze  magic shop  anpanman  airplane pt  2  so what  the only songs that really matched the audible theme of tear was the intro  outro  title track and the truth untold  even through the tone of the songs were more poppy  the lyrics and meaning spoke for the concept  i have a feeling that map of the soul  persona will be the same way  most of the album being poppy other genres with a few of the tracks being more hiphop based  but all of them will have the  discovering and accepting all facets of yourself  meaning  title track wise  just like with fake love sounding both pop and emo  we ll probably get a song that has definite hip hop vibes but with a pop spin  big hit is really good at providing a genre for everyone no matter their taste  it s why army is so diverse  we have diehard hip hop heads that go bonkers over tracks like outro  tear  ddaeng and the cyphers  we got r amp b and soul fans that salivate over singularity  the truth untold and stigma  and of course the pop crowd that appreciate the hype tracks like dna  so what and interlude  wings i think whatever they come out with will be amazing   \n"
     ]
    }
   ],
   "source": [
    "print(f'BTS comment: {df.body.loc[9623]}')"
   ]
  },
  {
   "cell_type": "markdown",
   "metadata": {},
   "source": [
    "----"
   ]
  },
  {
   "cell_type": "markdown",
   "metadata": {},
   "source": [
    "### Confusion Matrix\n",
    "\n",
    "We will implement the confusion matrix in order to help us visualize  how our model performs. \n",
    "In terms of the classification metric we will use to measure performance, we will need to take a look into our positive and negative class. For this project, our positive class is \"Blackpink\" comments and the negative class is \"Bts\" comments. In respect to the problem statement at hand, it probably does not matter too much if we misclassify a comment from a Blackpink subreddit or BTS subreddit. Because we believe false positives and false negatives are equally as bad, we will continue to use accuracy as the classification metrix."
   ]
  },
  {
   "cell_type": "code",
   "execution_count": 464,
   "metadata": {},
   "outputs": [],
   "source": [
    "pred = logreg.predict(test_cvec_df)"
   ]
  },
  {
   "cell_type": "code",
   "execution_count": 465,
   "metadata": {},
   "outputs": [
    {
     "data": {
      "text/plain": [
       "array([[1795,  585],\n",
       "       [ 515, 1789]])"
      ]
     },
     "execution_count": 465,
     "metadata": {},
     "output_type": "execute_result"
    }
   ],
   "source": [
    "confusion_matrix(y_test, pred)"
   ]
  },
  {
   "cell_type": "code",
   "execution_count": 467,
   "metadata": {},
   "outputs": [
    {
     "name": "stdout",
     "output_type": "stream",
     "text": [
      "True Negatives: 1795\n",
      "False Positives: 585\n",
      "False Negatives: 515\n",
      "True Positives: 1789\n"
     ]
    }
   ],
   "source": [
    "tn, fp, fn, tp = confusion_matrix(y_test, pred).ravel()\n",
    "print(\"True Negatives: %s\" % tn)\n",
    "print(\"False Positives: %s\" % fp)\n",
    "print(\"False Negatives: %s\" % fn)\n",
    "print(\"True Positives: %s\" % tp)"
   ]
  },
  {
   "cell_type": "markdown",
   "metadata": {},
   "source": [
    "What does a **true positive** mean here?:\n",
    "\n",
    "- True positives are comments we correctly predict to be positive.\n",
    "- In this case, since Blackpink = 1 (Bts=0), a true positive means the model correctly predicted 1,789 comments to be from the Blackpink subreddit.\n",
    "\n",
    "---\n",
    "\n",
    "What does a **true negative** mean here?:\n",
    "\n",
    "- True negatives are comments we correctly predict to be negative.\n",
    "- In this case, since Blackpink = 1 (Bts = 0), a true negative means the model correctly predicted 1,795 comments to be from the Bts subreddit.\n",
    "\n",
    "---\n",
    "\n",
    "What does a **false positive** mean here?:\n",
    "\n",
    "- False positives are comments we falsely predict to be positive.\n",
    "- In this case, since Blackpink = 1 (Bts = 0), a false positive means the model incorrectly predicted 585 comments to be from the Blackpink subreddit (when it's really from the Bts subreddit).\n",
    "\n",
    "---\n",
    "\n",
    "What does a **false negative** mean here?:\n",
    "\n",
    "- False negatives are comments we false predict to be negative.\n",
    "- In this case, since Blackpink = 1 (Bts=0), a false negative means the model incorrectly predicted 515 comments to be from the Bts subreddit (when it's really from the Blackpink subreddit)."
   ]
  },
  {
   "cell_type": "markdown",
   "metadata": {},
   "source": [
    "## **Please continue to Notebook 05: Naive Bayes Model**"
   ]
  }
 ],
 "metadata": {
  "kernelspec": {
   "display_name": "Python 3",
   "language": "python",
   "name": "python3"
  },
  "language_info": {
   "codemirror_mode": {
    "name": "ipython",
    "version": 3
   },
   "file_extension": ".py",
   "mimetype": "text/x-python",
   "name": "python",
   "nbconvert_exporter": "python",
   "pygments_lexer": "ipython3",
   "version": "3.6.8"
  }
 },
 "nbformat": 4,
 "nbformat_minor": 2
}
