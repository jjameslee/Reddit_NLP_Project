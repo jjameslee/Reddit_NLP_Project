{
 "cells": [
  {
   "cell_type": "markdown",
   "metadata": {},
   "source": [
    "## Problem Statement:\n",
    "\n",
    "Our consulting firm, JL Consulting Group, was hired by YG Entertainment, a company based in South Korea that operates as a record label, talent agency, music production company, event management, concert production company, and music publishing house. YG Ent. realized the Korean popular music industry (Kpop) is becoming heavily saturated with countless Kpop groups debuting who are backed by their newly formed agencies. YG Ent., as well as many other Korean agencies, believe the future of Kpop is world-wide exposure to foreign markets. Since over 10 years ago, YG Ent. launched many successful groups whose popularity broke barriers outside of Korea to Asia, parts of Europe and South America. However, the U.S. mainstream market seemed nearly impossible to break into, especially after Se7en's, a former YG solo act, unsuccessful American debut back in 2007. Now, 12 years later, YG has a girlgroup named 'Blackpink', who they believe will be able to make a much bigger impact in the U.S than any girlgroup in the history of Kpop. With the mindset of trying to avoid rushing into things, YG hired us to first analyze the Western online fanbase for Blackpink on [Blackpink subreddit](https://www.reddit.com/r/BlackPink/), to understand the organic response from the online community in order to help further drive the exposure of Blackpink and develop potential trends for future groups being able to broaden their own exposure and fanbase to the Western audience.\n",
    "\n",
    "\n",
    "In order to accurately understand the words and language themes among the Western fanbase for kpop, and then try to interpret those words to see potential reasons for how or why they like Blackpink (even potentially over other kpop groups), we decided to include another Kpop group who has a huge following in America named 'BTS'. BTS is currently the leading kpop group that broke the standards of what breakout success looks like for kpop groups overseas. Today, BTS and Blackpink are the two most popular and influential kpop groups among the Western audience, respectively. As a result by collecting the most recent comments in the two subreddits, we will:\n",
    "* Identify the words/language/themes that are common among Blackpink/Bts (or Kpop fans in general) fans in order to identify the two groups.\n",
    "* Interpret those words/language/themes to help further Blackpink's success in the U.S.\n",
    "* Interpret those words/language/themes to help develop potential trends for future YG groups seeking recognition in the U.S.\n",
    "\n",
    "\n"
   ]
  },
  {
   "cell_type": "markdown",
   "metadata": {},
   "source": [
    "----"
   ]
  },
  {
   "cell_type": "markdown",
   "metadata": {},
   "source": [
    "In the previous notebook, we used the Push Shift API to collect 10,000 comments from the 'BlackPink' subreddit and 10,000 comments from the 'bantan' subreddit. We chose these two subreddits because both groups are the representatives when it comes to Kpop groups with breakout success in the West. At the time of the data collection, it was right before both groups made a comeback with an album. We chose this timeframe because the respective subreddits will become much more active and it will also encourage comments of those expressing feedbacks about the groups' past songs (what they liked/disliked about it) and excitement for the album (what they are excited or hopeful to hear). In addition to the soon to be released album, these two groups are currently on a world-tour (obviously including America), we hoped to gain some insight regarding this matter as well. \n",
    "\n",
    "### Next Steps: \n",
    "After collecting and saving out the data, we will now clean the data and provide exploratory data analysis in this notebook. We plan to handle the missing/removed/deleted/flawed values appropriately, examine and describe the distributions of the number of words/characters of the 2 subreddits, and identify outliers. Throughout this process and the rest of this project, we will use what we discover in order to address the problem statement.\n"
   ]
  },
  {
   "cell_type": "code",
   "execution_count": 152,
   "metadata": {},
   "outputs": [],
   "source": [
    "import pandas as pd\n",
    "import numpy as np\n",
    "import matplotlib.pyplot as plt\n",
    "import json\n",
    "import re\n",
    "\n",
    "%matplotlib inline"
   ]
  },
  {
   "cell_type": "code",
   "execution_count": 153,
   "metadata": {},
   "outputs": [
    {
     "name": "stdout",
     "output_type": "stream",
     "text": [
      "01_Push_Shift_API.ipynb      06_Random_Forest_Model.ipynb\n",
      "02_Cleaning_EDA.ipynb        \u001b[34mUntitled Folder\u001b[m\u001b[m\n",
      "03_Preprocessing.ipynb       \u001b[34massets\u001b[m\u001b[m\n",
      "04_LogReg_Model.ipynb        \u001b[34mdata\u001b[m\u001b[m\n",
      "05_Naive_Bayes_Model.ipynb\n"
     ]
    }
   ],
   "source": [
    "!ls"
   ]
  },
  {
   "cell_type": "code",
   "execution_count": 154,
   "metadata": {},
   "outputs": [],
   "source": [
    "bp_bts_df = pd.read_csv('./data/bp_bts_df.csv')"
   ]
  },
  {
   "cell_type": "code",
   "execution_count": 155,
   "metadata": {},
   "outputs": [
    {
     "data": {
      "text/html": [
       "<div>\n",
       "<style scoped>\n",
       "    .dataframe tbody tr th:only-of-type {\n",
       "        vertical-align: middle;\n",
       "    }\n",
       "\n",
       "    .dataframe tbody tr th {\n",
       "        vertical-align: top;\n",
       "    }\n",
       "\n",
       "    .dataframe thead th {\n",
       "        text-align: right;\n",
       "    }\n",
       "</style>\n",
       "<table border=\"1\" class=\"dataframe\">\n",
       "  <thead>\n",
       "    <tr style=\"text-align: right;\">\n",
       "      <th></th>\n",
       "      <th>body</th>\n",
       "      <th>blackpink</th>\n",
       "    </tr>\n",
       "  </thead>\n",
       "  <tbody>\n",
       "    <tr>\n",
       "      <th>0</th>\n",
       "      <td>This is something I can get behind and appreci...</td>\n",
       "      <td>1</td>\n",
       "    </tr>\n",
       "    <tr>\n",
       "      <th>1</th>\n",
       "      <td>Hold the fuck up?! Rock songs? I'm considering...</td>\n",
       "      <td>1</td>\n",
       "    </tr>\n",
       "    <tr>\n",
       "      <th>2</th>\n",
       "      <td>What time and date is this in PDT? 0 AM is a b...</td>\n",
       "      <td>1</td>\n",
       "    </tr>\n",
       "    <tr>\n",
       "      <th>3</th>\n",
       "      <td>Is there a list? Last year I remember they str...</td>\n",
       "      <td>1</td>\n",
       "    </tr>\n",
       "    <tr>\n",
       "      <th>4</th>\n",
       "      <td>As a blink I'll wait till mv dropped. Then I'l...</td>\n",
       "      <td>1</td>\n",
       "    </tr>\n",
       "  </tbody>\n",
       "</table>\n",
       "</div>"
      ],
      "text/plain": [
       "                                                body  blackpink\n",
       "0  This is something I can get behind and appreci...          1\n",
       "1  Hold the fuck up?! Rock songs? I'm considering...          1\n",
       "2  What time and date is this in PDT? 0 AM is a b...          1\n",
       "3  Is there a list? Last year I remember they str...          1\n",
       "4  As a blink I'll wait till mv dropped. Then I'l...          1"
      ]
     },
     "execution_count": 155,
     "metadata": {},
     "output_type": "execute_result"
    }
   ],
   "source": [
    "bp_bts_df.head()"
   ]
  },
  {
   "cell_type": "code",
   "execution_count": 156,
   "metadata": {},
   "outputs": [
    {
     "data": {
      "text/plain": [
       "(19451, 2)"
      ]
     },
     "execution_count": 156,
     "metadata": {},
     "output_type": "execute_result"
    }
   ],
   "source": [
    "bp_bts_df.shape"
   ]
  },
  {
   "cell_type": "markdown",
   "metadata": {},
   "source": [
    "## Data Cleaning"
   ]
  },
  {
   "cell_type": "markdown",
   "metadata": {},
   "source": [
    "Cleaning out the comments that were 'removed' or 'deleted'."
   ]
  },
  {
   "cell_type": "code",
   "execution_count": 157,
   "metadata": {},
   "outputs": [
    {
     "name": "stdout",
     "output_type": "stream",
     "text": [
      "(2, 2)\n",
      "(1, 2)\n"
     ]
    }
   ],
   "source": [
    "print(bp_bts_df[bp_bts_df['body'] == '[removed]'].shape)\n",
    "print(bp_bts_df[bp_bts_df['body'] == '[deleted]'].shape)"
   ]
  },
  {
   "cell_type": "code",
   "execution_count": 158,
   "metadata": {},
   "outputs": [],
   "source": [
    "bp_bts_df.drop(bp_bts_df[bp_bts_df['body'] == '[removed]'].index, 0, inplace=True)\n",
    "bp_bts_df.drop(bp_bts_df[bp_bts_df['body'] == '[deleted]'].index, 0, inplace=True)"
   ]
  },
  {
   "cell_type": "markdown",
   "metadata": {},
   "source": [
    "All of these comments were automatically removed from the subreddit for either not following the subreddit format or its' rules. We can see there are quite a few comments that contain bodies of texts that mention it being removed by the subreddit in different variations. As a result, we will remove all these comments as they provide absolutely no information."
   ]
  },
  {
   "cell_type": "code",
   "execution_count": 159,
   "metadata": {},
   "outputs": [
    {
     "data": {
      "text/plain": [
       "'Your post has been automatically removed because the title did not include the correct date format. Ensure that it follows the YYMMDD format (ex. **190128** Lisa IG Update: we look happy), and try again. Please read the [subreddit rules](https://www.reddit.com/r/BlackPink/wiki/communityguidelines) for more information. If you believe this was a mistake, please contact the mods. *I am a bot, and this action was performed automatically. Please [contact the moderators of this subreddit](/message/compose/?to=/r/BlackPink) if you have any questions or concerns.*'"
      ]
     },
     "execution_count": 159,
     "metadata": {},
     "output_type": "execute_result"
    }
   ],
   "source": [
    "bp_bts_df.body[28]"
   ]
  },
  {
   "cell_type": "code",
   "execution_count": 160,
   "metadata": {},
   "outputs": [],
   "source": [
    "bp_bts_df.drop(bp_bts_df[bp_bts_df.body.str.contains('Your post has been automatically removed')].index, 0, inplace=True)\n",
    "bp_bts_df.drop(bp_bts_df[bp_bts_df.body.str.contains(\"submission has been removed\")].index, 0, inplace=True)\n",
    "bp_bts_df.drop(bp_bts_df[bp_bts_df.body.str.contains('submission has unfortunately been')].index, 0, inplace=True)\n",
    "bp_bts_df.drop(bp_bts_df[bp_bts_df.body.str.contains('has been removed')].index, 0, inplace=True)\n",
    "bp_bts_df.drop(bp_bts_df[bp_bts_df.body.str.contains('have been removed')].index, 0, inplace=True)\n",
    "bp_bts_df.drop(bp_bts_df[bp_bts_df.body.str.contains('will be removed')].index, 0, inplace=True)"
   ]
  },
  {
   "cell_type": "markdown",
   "metadata": {},
   "source": [
    "There are also quite a few comments that are from bots on the subreddits. As a result, we will remove all these comments as they provide no information."
   ]
  },
  {
   "cell_type": "code",
   "execution_count": 161,
   "metadata": {},
   "outputs": [],
   "source": [
    "bp_bts_df.drop(bp_bts_df[bp_bts_df.body.str.contains(\"I'm a bot\")].index, 0, inplace=True)\n",
    "bp_bts_df.drop(bp_bts_df[bp_bts_df.body.str.contains('\\^bot')].index, 0, inplace=True)"
   ]
  },
  {
   "cell_type": "markdown",
   "metadata": {},
   "source": [
    "Skimming through the body of the dataframe to find different variations of bot comments. We came across one particular comment from a bot that provides interesting information. According to the comment, Lisa (one of the 4 members of Blackpink) recently broke another social media record for reaching 1 million mentions for her birthday on Twitter hashtags. Through this initial observartion, we will dive further into the popularity of the member."
   ]
  },
  {
   "cell_type": "code",
   "execution_count": 162,
   "metadata": {},
   "outputs": [
    {
     "data": {
      "text/html": [
       "<div>\n",
       "<style scoped>\n",
       "    .dataframe tbody tr th:only-of-type {\n",
       "        vertical-align: middle;\n",
       "    }\n",
       "\n",
       "    .dataframe tbody tr th {\n",
       "        vertical-align: top;\n",
       "    }\n",
       "\n",
       "    .dataframe thead th {\n",
       "        text-align: right;\n",
       "    }\n",
       "</style>\n",
       "<table border=\"1\" class=\"dataframe\">\n",
       "  <thead>\n",
       "    <tr style=\"text-align: right;\">\n",
       "      <th></th>\n",
       "      <th>body</th>\n",
       "      <th>blackpink</th>\n",
       "    </tr>\n",
       "  </thead>\n",
       "  <tbody>\n",
       "    <tr>\n",
       "      <th>1719</th>\n",
       "      <td>**Blackpink's Lisa becomes the first ever fema...</td>\n",
       "      <td>1</td>\n",
       "    </tr>\n",
       "    <tr>\n",
       "      <th>1993</th>\n",
       "      <td>**YGE shares official song description for BLA...</td>\n",
       "      <td>1</td>\n",
       "    </tr>\n",
       "    <tr>\n",
       "      <th>2179</th>\n",
       "      <td>**YG Entertainment: 'BLACKPINK's 'KILL THIS LO...</td>\n",
       "      <td>1</td>\n",
       "    </tr>\n",
       "    <tr>\n",
       "      <th>2787</th>\n",
       "      <td>**​BLACKPINK completed filming music video for...</td>\n",
       "      <td>1</td>\n",
       "    </tr>\n",
       "    <tr>\n",
       "      <th>5936</th>\n",
       "      <td>**Red Velvet's Irene and BLACKPINK's Jennie To...</td>\n",
       "      <td>1</td>\n",
       "    </tr>\n",
       "    <tr>\n",
       "      <th>9862</th>\n",
       "      <td>#Weekly /r/heungtan Room (흥탄방) [](#ryan_bomb) ...</td>\n",
       "      <td>0</td>\n",
       "    </tr>\n",
       "  </tbody>\n",
       "</table>\n",
       "</div>"
      ],
      "text/plain": [
       "                                                   body  blackpink\n",
       "1719  **Blackpink's Lisa becomes the first ever fema...          1\n",
       "1993  **YGE shares official song description for BLA...          1\n",
       "2179  **YG Entertainment: 'BLACKPINK's 'KILL THIS LO...          1\n",
       "2787  **​BLACKPINK completed filming music video for...          1\n",
       "5936  **Red Velvet's Irene and BLACKPINK's Jennie To...          1\n",
       "9862  #Weekly /r/heungtan Room (흥탄방) [](#ryan_bomb) ...          0"
      ]
     },
     "execution_count": 162,
     "metadata": {},
     "output_type": "execute_result"
    }
   ],
   "source": [
    "bp_bts_df[bp_bts_df.body.str.contains('I am a bot')]"
   ]
  },
  {
   "cell_type": "code",
   "execution_count": 163,
   "metadata": {},
   "outputs": [],
   "source": [
    "bp_bts_df.drop(9862, 0, inplace=True)"
   ]
  },
  {
   "cell_type": "code",
   "execution_count": 164,
   "metadata": {},
   "outputs": [
    {
     "data": {
      "text/plain": [
       "\"**Blackpink's Lisa becomes the first ever female idol to reach one million mentions for a Twitter birthday hashtag, Breaking her second social media record** Blackpink's youngest member Lisa has a birthday today.Just 2 months ago she became the most followed K-entertainment female celebrity on the social media platform Instagram.Today she has broken another social media record. BLINKs and Lisa fans worldwide couldn't help but tweet in celebration of the birthday girl, making her the first ever female idol in history to reach one million Twitter birthday hashtag mentions (under the hashtag #AceLalisaDay).Should we expect Lisa to break any more social media records? Let us know down below. source: https://www.allkpop.com/upload/2019/03/content/261442/blackpink-lisa-2jpg.jpg ***** *I am a bot that transcribes allkpop articles.*\""
      ]
     },
     "execution_count": 164,
     "metadata": {},
     "output_type": "execute_result"
    }
   ],
   "source": [
    "bp_bts_df.body[1719]\n",
    "# informative"
   ]
  },
  {
   "cell_type": "markdown",
   "metadata": {},
   "source": [
    "Based on the bar graph, Lisa is the most mentioned member of Blackpink, followed by Jennie then Jisoo and Rose. Although it may be a stretch to say Lisa is the most popular member among international (Western) fans just from this plot; there are valid reasonings to think so in addition with outside resource. According to this [article](https://www.monstersandcritics.com/kpop/lisa-of-blackpink-overtakes-taeyeon-of-girls-generation-as-the-most-popular-female-celebrity-of-korea-on-instagram/), Lisa has become the most popular female celebrity of Korea on Instagram (in terms of followers), second rank being Jennie. In many online platforms, there seems to be a general consensus acknowledging Lisa as the most popular Blackpink member internationally. The comment above even mentions that Lisa is the first ever female idol to reach 1 million mentions for her Twitter birthday hashtag.\n",
    "\n",
    "After some outside research as well as searching the context of the comments containing 'lisa', we were able to derive a few assumptions as to the reason why Lisa is the more popular member:\n",
    "* Lisa is the only *ethnically* foreign member of the group\n",
    "* Lisa, along with Jennie, are the rappers of the group\n",
    "* Lisa has outstanding appearance and over-all talent\n",
    "\n",
    "Being the only foreign member of a group can surely have its' perks. Even though, Kpop has transcended borders in Asia, a fan will generally have more preference towards a member of a particular group who shares the same ethnicity as him/her over another member who is of a difference culture. This [article](https://onehallyu.com/topic/426258-foreign-members-in-kpop-groups-that-are-more-popular-than-the-korean-members/) highlights many kpop groups where the foreign member is more popular than the Korean members outside of Korea. \n",
    "\n",
    "The rappers of a kpop group, especially in girl-groups, generally tend to have more popularity among international kpop fans. Lisa and Jennie clearly supports this claim when it comes to Blackpink. Many comments when it comes to Blackpink seem to originate from female fans who admire strong/confident females who shy away from the norm of cute/pretty/reserved kpop idol girls. This \"girl-crush concept\" is a strong identity for Blackpink, which is also inspired by YG's older girlgroup 2ne1.\n",
    "\n",
    "Beyond being a non-Korean and a rapper of the group, Lisa is also beloved for her all-around talents. She is the main dancer of the group who has never got into any form of backlash from fans or the public due to her lack of talent or dedication. Recently, Jennie has gotten some media scrutiny from both kpop fans/public alike over her supposed \"lazy performances\". Further information on this topic can be found in this [article](https://www.allkpop.com/article/2018/11/yg-entertainment-blocks-the-lazy-jennie-performance-video-on-youtube)"
   ]
  },
  {
   "cell_type": "code",
   "execution_count": 165,
   "metadata": {},
   "outputs": [
    {
     "data": {
      "text/plain": [
       "\"They're on another level, they own the girl crush concept and they make it better every single time... They're in for the kill with this comeback!\""
      ]
     },
     "execution_count": 165,
     "metadata": {},
     "output_type": "execute_result"
    }
   ],
   "source": [
    "bp_bts_df.body[1486]"
   ]
  },
  {
   "cell_type": "code",
   "execution_count": 166,
   "metadata": {},
   "outputs": [
    {
     "name": "stdout",
     "output_type": "stream",
     "text": [
      "66\n",
      "51\n",
      "48\n",
      "47\n"
     ]
    }
   ],
   "source": [
    "print(bp_bts_df[bp_bts_df.body.str.contains('lisa')].shape[0])\n",
    "print(bp_bts_df[bp_bts_df.body.str.contains('jennie')].shape[0])\n",
    "print(bp_bts_df[bp_bts_df.body.str.contains('jisoo')].shape[0])\n",
    "print(bp_bts_df[bp_bts_df.body.str.contains('rose')].shape[0])"
   ]
  },
  {
   "cell_type": "code",
   "execution_count": 167,
   "metadata": {},
   "outputs": [
    {
     "data": {
      "image/png": "[encoded data removed]",
      "text/plain": [
       "<Figure size 864x576 with 1 Axes>"
      ]
     },
     "metadata": {
      "needs_background": "light"
     },
     "output_type": "display_data"
    }
   ],
   "source": [
    "plt.figure(figsize=(12,8))\n",
    "plt.bar(['lisa','jennie','jisoo', 'rose'], [66, 51, 48, 47])\n",
    "plt.title('Most mentioned BlackPink member', fontsize=20)\n",
    "plt.xlabel('Member', fontsize=12)\n",
    "plt.ylabel('Frequency', fontsize=12);\n",
    "\n"
   ]
  },
  {
   "cell_type": "markdown",
   "metadata": {},
   "source": [
    "These are the rest of the comments that are either from bots posting spam or automatic removals on the subreddits. As a result, we will remove all these comments as they provide no information."
   ]
  },
  {
   "cell_type": "code",
   "execution_count": 168,
   "metadata": {},
   "outputs": [
    {
     "name": "stdout",
     "output_type": "stream",
     "text": [
      "(6, 2)\n"
     ]
    },
    {
     "data": {
      "text/html": [
       "<div>\n",
       "<style scoped>\n",
       "    .dataframe tbody tr th:only-of-type {\n",
       "        vertical-align: middle;\n",
       "    }\n",
       "\n",
       "    .dataframe tbody tr th {\n",
       "        vertical-align: top;\n",
       "    }\n",
       "\n",
       "    .dataframe thead th {\n",
       "        text-align: right;\n",
       "    }\n",
       "</style>\n",
       "<table border=\"1\" class=\"dataframe\">\n",
       "  <thead>\n",
       "    <tr style=\"text-align: right;\">\n",
       "      <th></th>\n",
       "      <th>body</th>\n",
       "      <th>blackpink</th>\n",
       "    </tr>\n",
       "  </thead>\n",
       "  <tbody>\n",
       "    <tr>\n",
       "      <th>15600</th>\n",
       "      <td>Hello, OP! Unfortunately your submission had t...</td>\n",
       "      <td>0</td>\n",
       "    </tr>\n",
       "    <tr>\n",
       "      <th>16627</th>\n",
       "      <td>Hello, OP! Unfortunately your submission had t...</td>\n",
       "      <td>0</td>\n",
       "    </tr>\n",
       "  </tbody>\n",
       "</table>\n",
       "</div>"
      ],
      "text/plain": [
       "                                                    body  blackpink\n",
       "15600  Hello, OP! Unfortunately your submission had t...          0\n",
       "16627  Hello, OP! Unfortunately your submission had t...          0"
      ]
     },
     "execution_count": 168,
     "metadata": {},
     "output_type": "execute_result"
    }
   ],
   "source": [
    "print(bp_bts_df[bp_bts_df.body.str.contains('Hello, OP!')].shape)\n",
    "bp_bts_df[bp_bts_df.body.str.contains('Hello, OP!')].head(2)"
   ]
  },
  {
   "cell_type": "code",
   "execution_count": 169,
   "metadata": {},
   "outputs": [],
   "source": [
    "bp_bts_df.drop(bp_bts_df[bp_bts_df.body.str.contains('Hello, OP!')].index, 0, inplace=True)"
   ]
  },
  {
   "cell_type": "code",
   "execution_count": 170,
   "metadata": {},
   "outputs": [
    {
     "data": {
      "text/html": [
       "<div>\n",
       "<style scoped>\n",
       "    .dataframe tbody tr th:only-of-type {\n",
       "        vertical-align: middle;\n",
       "    }\n",
       "\n",
       "    .dataframe tbody tr th {\n",
       "        vertical-align: top;\n",
       "    }\n",
       "\n",
       "    .dataframe thead th {\n",
       "        text-align: right;\n",
       "    }\n",
       "</style>\n",
       "<table border=\"1\" class=\"dataframe\">\n",
       "  <thead>\n",
       "    <tr style=\"text-align: right;\">\n",
       "      <th></th>\n",
       "      <th>body</th>\n",
       "      <th>blackpink</th>\n",
       "    </tr>\n",
       "  </thead>\n",
       "  <tbody>\n",
       "    <tr>\n",
       "      <th>8473</th>\n",
       "      <td>Hey BooCMB, just a quick heads up: I learnt qu...</td>\n",
       "      <td>1</td>\n",
       "    </tr>\n",
       "    <tr>\n",
       "      <th>8506</th>\n",
       "      <td>Hey, iSwedishVirus, just a quick heads-up: **w...</td>\n",
       "      <td>1</td>\n",
       "    </tr>\n",
       "    <tr>\n",
       "      <th>9222</th>\n",
       "      <td>Hey, SashaSapphire, just a quick heads-up: **a...</td>\n",
       "      <td>1</td>\n",
       "    </tr>\n",
       "  </tbody>\n",
       "</table>\n",
       "</div>"
      ],
      "text/plain": [
       "                                                   body  blackpink\n",
       "8473  Hey BooCMB, just a quick heads up: I learnt qu...          1\n",
       "8506  Hey, iSwedishVirus, just a quick heads-up: **w...          1\n",
       "9222  Hey, SashaSapphire, just a quick heads-up: **a...          1"
      ]
     },
     "execution_count": 170,
     "metadata": {},
     "output_type": "execute_result"
    }
   ],
   "source": [
    "bp_bts_df[bp_bts_df.body.str.contains('Have a nice day!')]"
   ]
  },
  {
   "cell_type": "code",
   "execution_count": 171,
   "metadata": {},
   "outputs": [],
   "source": [
    "bp_bts_df.drop(bp_bts_df[bp_bts_df.body.str.contains(\"Have a nice day!\")].index, 0, inplace=True)"
   ]
  },
  {
   "cell_type": "markdown",
   "metadata": {},
   "source": [
    "Removing all the deleted/removed/flawed values, we are left with 19,275 comments in the dataframe. Eliminating a total of 725 values since the prior data collection."
   ]
  },
  {
   "cell_type": "code",
   "execution_count": 172,
   "metadata": {},
   "outputs": [
    {
     "data": {
      "text/plain": [
       "(19275, 2)"
      ]
     },
     "execution_count": 172,
     "metadata": {},
     "output_type": "execute_result"
    }
   ],
   "source": [
    "bp_bts_df.shape"
   ]
  },
  {
   "cell_type": "markdown",
   "metadata": {},
   "source": [
    "In order to make natural language processing more effective, we will remove URL links and mentions of any subreddits from the body of texts."
   ]
  },
  {
   "cell_type": "code",
   "execution_count": 175,
   "metadata": {},
   "outputs": [],
   "source": [
    "bp_bts_df['body'] = bp_bts_df.body.map(lambda x: re.sub('http[s]?:\\/\\/[^\\s]*', ' ', x)) # Removing all URLs\n",
    "bp_bts_df['body'] = bp_bts_df.body.map(lambda x: re.sub('\\s[\\/]?r\\/[^\\s]+', ' ', x))   # removing mentions of subreddits\n",
    "bp_bts_df['body'] = bp_bts_df.body.map(lambda x: re.sub('/r/[^\\s]+', ' ', x))      #removes more mentions of any subreddits"
   ]
  },
  {
   "cell_type": "markdown",
   "metadata": {},
   "source": [
    "We will compare the character count and word count for each of the two subreddits."
   ]
  },
  {
   "cell_type": "code",
   "execution_count": 176,
   "metadata": {},
   "outputs": [],
   "source": [
    "bp_bts_df['char_count'] = bp_bts_df.body.map(len)\n",
    "bp_bts_df['word_count'] = bp_bts_df.body.map(lambda x: len(x.split()))"
   ]
  },
  {
   "cell_type": "code",
   "execution_count": 177,
   "metadata": {},
   "outputs": [
    {
     "name": "stdout",
     "output_type": "stream",
     "text": [
      "(19275, 4)\n"
     ]
    },
    {
     "data": {
      "text/html": [
       "<div>\n",
       "<style scoped>\n",
       "    .dataframe tbody tr th:only-of-type {\n",
       "        vertical-align: middle;\n",
       "    }\n",
       "\n",
       "    .dataframe tbody tr th {\n",
       "        vertical-align: top;\n",
       "    }\n",
       "\n",
       "    .dataframe thead th {\n",
       "        text-align: right;\n",
       "    }\n",
       "</style>\n",
       "<table border=\"1\" class=\"dataframe\">\n",
       "  <thead>\n",
       "    <tr style=\"text-align: right;\">\n",
       "      <th></th>\n",
       "      <th>body</th>\n",
       "      <th>blackpink</th>\n",
       "      <th>char_count</th>\n",
       "      <th>word_count</th>\n",
       "    </tr>\n",
       "  </thead>\n",
       "  <tbody>\n",
       "    <tr>\n",
       "      <th>0</th>\n",
       "      <td>This is something I can get behind and appreci...</td>\n",
       "      <td>1</td>\n",
       "      <td>1043</td>\n",
       "      <td>188</td>\n",
       "    </tr>\n",
       "    <tr>\n",
       "      <th>1</th>\n",
       "      <td>Hold the fuck up?! Rock songs? I'm considering...</td>\n",
       "      <td>1</td>\n",
       "      <td>75</td>\n",
       "      <td>12</td>\n",
       "    </tr>\n",
       "    <tr>\n",
       "      <th>2</th>\n",
       "      <td>What time and date is this in PDT? 0 AM is a b...</td>\n",
       "      <td>1</td>\n",
       "      <td>106</td>\n",
       "      <td>27</td>\n",
       "    </tr>\n",
       "    <tr>\n",
       "      <th>3</th>\n",
       "      <td>Is there a list? Last year I remember they str...</td>\n",
       "      <td>1</td>\n",
       "      <td>84</td>\n",
       "      <td>16</td>\n",
       "    </tr>\n",
       "    <tr>\n",
       "      <th>4</th>\n",
       "      <td>As a blink I'll wait till mv dropped. Then I'l...</td>\n",
       "      <td>1</td>\n",
       "      <td>149</td>\n",
       "      <td>33</td>\n",
       "    </tr>\n",
       "  </tbody>\n",
       "</table>\n",
       "</div>"
      ],
      "text/plain": [
       "                                                body  blackpink  char_count  \\\n",
       "0  This is something I can get behind and appreci...          1        1043   \n",
       "1  Hold the fuck up?! Rock songs? I'm considering...          1          75   \n",
       "2  What time and date is this in PDT? 0 AM is a b...          1         106   \n",
       "3  Is there a list? Last year I remember they str...          1          84   \n",
       "4  As a blink I'll wait till mv dropped. Then I'l...          1         149   \n",
       "\n",
       "   word_count  \n",
       "0         188  \n",
       "1          12  \n",
       "2          27  \n",
       "3          16  \n",
       "4          33  "
      ]
     },
     "execution_count": 177,
     "metadata": {},
     "output_type": "execute_result"
    }
   ],
   "source": [
    "print(bp_bts_df.shape)\n",
    "bp_bts_df.head()"
   ]
  },
  {
   "cell_type": "markdown",
   "metadata": {},
   "source": [
    "Most of 1 characters are emoticons/emojis (hearts, happy face). The 2 characters consist of other emojis or acronym abbreviated responses such as 'ty'. As for the blank body rows, those were comments that had links or URLS only before it got removed and replaced with empty spaces (due to a data cleaning process above). Most of the 1 word comments are variations of laughing expressions (lmao, lol, ahhhh , haha) along with occasional smiley faces, hearts, or hashtags. All these values provide no signficant information and as a result will be dropped."
   ]
  },
  {
   "cell_type": "code",
   "execution_count": 179,
   "metadata": {},
   "outputs": [
    {
     "name": "stdout",
     "output_type": "stream",
     "text": [
      "(78, 4)\n"
     ]
    },
    {
     "data": {
      "text/html": [
       "<div>\n",
       "<style scoped>\n",
       "    .dataframe tbody tr th:only-of-type {\n",
       "        vertical-align: middle;\n",
       "    }\n",
       "\n",
       "    .dataframe tbody tr th {\n",
       "        vertical-align: top;\n",
       "    }\n",
       "\n",
       "    .dataframe thead th {\n",
       "        text-align: right;\n",
       "    }\n",
       "</style>\n",
       "<table border=\"1\" class=\"dataframe\">\n",
       "  <thead>\n",
       "    <tr style=\"text-align: right;\">\n",
       "      <th></th>\n",
       "      <th>body</th>\n",
       "      <th>blackpink</th>\n",
       "      <th>char_count</th>\n",
       "      <th>word_count</th>\n",
       "    </tr>\n",
       "  </thead>\n",
       "  <tbody>\n",
       "    <tr>\n",
       "      <th>111</th>\n",
       "      <td>Du</td>\n",
       "      <td>1</td>\n",
       "      <td>2</td>\n",
       "      <td>1</td>\n",
       "    </tr>\n",
       "    <tr>\n",
       "      <th>362</th>\n",
       "      <td></td>\n",
       "      <td>1</td>\n",
       "      <td>1</td>\n",
       "      <td>0</td>\n",
       "    </tr>\n",
       "    <tr>\n",
       "      <th>467</th>\n",
       "      <td>💀</td>\n",
       "      <td>1</td>\n",
       "      <td>2</td>\n",
       "      <td>1</td>\n",
       "    </tr>\n",
       "    <tr>\n",
       "      <th>557</th>\n",
       "      <td></td>\n",
       "      <td>1</td>\n",
       "      <td>1</td>\n",
       "      <td>0</td>\n",
       "    </tr>\n",
       "    <tr>\n",
       "      <th>599</th>\n",
       "      <td>♥</td>\n",
       "      <td>1</td>\n",
       "      <td>1</td>\n",
       "      <td>1</td>\n",
       "    </tr>\n",
       "  </tbody>\n",
       "</table>\n",
       "</div>"
      ],
      "text/plain": [
       "    body  blackpink  char_count  word_count\n",
       "111   Du          1           2           1\n",
       "362               1           1           0\n",
       "467   💀           1           2           1\n",
       "557               1           1           0\n",
       "599    ♥          1           1           1"
      ]
     },
     "execution_count": 179,
     "metadata": {},
     "output_type": "execute_result"
    }
   ],
   "source": [
    "print(bp_bts_df[bp_bts_df['char_count'] < 3].shape)\n",
    "bp_bts_df[bp_bts_df['char_count'] < 3].head()"
   ]
  },
  {
   "cell_type": "code",
   "execution_count": 180,
   "metadata": {},
   "outputs": [
    {
     "name": "stdout",
     "output_type": "stream",
     "text": [
      "(479, 4)\n"
     ]
    },
    {
     "data": {
      "text/html": [
       "<div>\n",
       "<style scoped>\n",
       "    .dataframe tbody tr th:only-of-type {\n",
       "        vertical-align: middle;\n",
       "    }\n",
       "\n",
       "    .dataframe tbody tr th {\n",
       "        vertical-align: top;\n",
       "    }\n",
       "\n",
       "    .dataframe thead th {\n",
       "        text-align: right;\n",
       "    }\n",
       "</style>\n",
       "<table border=\"1\" class=\"dataframe\">\n",
       "  <thead>\n",
       "    <tr style=\"text-align: right;\">\n",
       "      <th></th>\n",
       "      <th>body</th>\n",
       "      <th>blackpink</th>\n",
       "      <th>char_count</th>\n",
       "      <th>word_count</th>\n",
       "    </tr>\n",
       "  </thead>\n",
       "  <tbody>\n",
       "    <tr>\n",
       "      <th>111</th>\n",
       "      <td>Du</td>\n",
       "      <td>1</td>\n",
       "      <td>2</td>\n",
       "      <td>1</td>\n",
       "    </tr>\n",
       "    <tr>\n",
       "      <th>135</th>\n",
       "      <td>[source](</td>\n",
       "      <td>1</td>\n",
       "      <td>10</td>\n",
       "      <td>1</td>\n",
       "    </tr>\n",
       "    <tr>\n",
       "      <th>224</th>\n",
       "      <td>Neat!</td>\n",
       "      <td>1</td>\n",
       "      <td>5</td>\n",
       "      <td>1</td>\n",
       "    </tr>\n",
       "    <tr>\n",
       "      <th>240</th>\n",
       "      <td>Excite.wav</td>\n",
       "      <td>1</td>\n",
       "      <td>10</td>\n",
       "      <td>1</td>\n",
       "    </tr>\n",
       "    <tr>\n",
       "      <th>243</th>\n",
       "      <td>Friiiiiiiiiiick</td>\n",
       "      <td>1</td>\n",
       "      <td>15</td>\n",
       "      <td>1</td>\n",
       "    </tr>\n",
       "  </tbody>\n",
       "</table>\n",
       "</div>"
      ],
      "text/plain": [
       "                body  blackpink  char_count  word_count\n",
       "111               Du          1           2           1\n",
       "135       [source](           1          10           1\n",
       "224            Neat!          1           5           1\n",
       "240       Excite.wav          1          10           1\n",
       "243  Friiiiiiiiiiick          1          15           1"
      ]
     },
     "execution_count": 180,
     "metadata": {},
     "output_type": "execute_result"
    }
   ],
   "source": [
    "print(bp_bts_df[bp_bts_df['word_count'] == 1].shape)\n",
    "bp_bts_df[bp_bts_df['word_count'] == 1].head()"
   ]
  },
  {
   "cell_type": "code",
   "execution_count": 181,
   "metadata": {},
   "outputs": [
    {
     "data": {
      "text/plain": [
       "(18774, 4)"
      ]
     },
     "execution_count": 181,
     "metadata": {},
     "output_type": "execute_result"
    }
   ],
   "source": [
    "bp_bts_df.drop(bp_bts_df[bp_bts_df['char_count'] < 3].index, 0, inplace=True)\n",
    "bp_bts_df.drop(bp_bts_df[bp_bts_df['word_count'] == 1].index, 0, inplace=True)\n",
    "\n",
    "bp_bts_df.shape"
   ]
  },
  {
   "cell_type": "markdown",
   "metadata": {},
   "source": [
    "After cleaning up the data, there are still more comments from the BTS subreddit (class=0) than the Blackpink subreddit (class=1). Since this is still only 1% of class imbalance, we will consider this within the acceptable margin that should not cause future models to have inaccurate accuracy scores when predicting whether a comment is either from the Blackpink subreddit or the Bts subreddit.\n",
    "\n",
    "The baseline accuracy is the average of the majority class, which is 50.79% (50.79% are from the BTS subreddit). Our future models has to have better score than just being able to pick the majority class as prediction."
   ]
  },
  {
   "cell_type": "code",
   "execution_count": 182,
   "metadata": {},
   "outputs": [
    {
     "data": {
      "text/plain": [
       "0    0.507937\n",
       "1    0.492063\n",
       "Name: blackpink, dtype: float64"
      ]
     },
     "execution_count": 182,
     "metadata": {},
     "output_type": "execute_result"
    }
   ],
   "source": [
    "bp_bts_df.blackpink.value_counts(normalize=True)"
   ]
  },
  {
   "cell_type": "markdown",
   "metadata": {},
   "source": [
    "## EDA: Visualization"
   ]
  },
  {
   "cell_type": "markdown",
   "metadata": {},
   "source": [
    "This shows the top 5 comments with the most amount of characters in its' body of texts. "
   ]
  },
  {
   "cell_type": "code",
   "execution_count": 186,
   "metadata": {},
   "outputs": [
    {
     "data": {
      "text/plain": [
       "9714     8836\n",
       "16178    7409\n",
       "7112     4560\n",
       "16206    4236\n",
       "19259    4120\n",
       "Name: char_count, dtype: int64"
      ]
     },
     "execution_count": 186,
     "metadata": {},
     "output_type": "execute_result"
    }
   ],
   "source": [
    "bp_bts_df.char_count.sort_values(ascending=False).head()"
   ]
  },
  {
   "cell_type": "code",
   "execution_count": 188,
   "metadata": {},
   "outputs": [
    {
     "data": {
      "image/png": "[encoded data removed]",
      "text/plain": [
       "<Figure size 1440x720 with 1 Axes>"
      ]
     },
     "metadata": {
      "needs_background": "light"
     },
     "output_type": "display_data"
    }
   ],
   "source": [
    "plt.figure(figsize=(20,10))\n",
    "plt.hist([bp_bts_df[bp_bts_df['blackpink']==0]['char_count'], \n",
    "          bp_bts_df[bp_bts_df['blackpink']==1]['char_count']],\n",
    "         bins=20, color=['black', 'pink'], ec='k')\n",
    "plt.title('Character Count by Class', fontsize=30)\n",
    "plt.ylabel('# of comments', fontsize=20)\n",
    "plt.xlabel('# of characters', fontsize=20)\n",
    "plt.legend(['BTS', 'BlackPink'])\n",
    "\n",
    "plt.annotate('1 BTS comment: 8,836 char counts', xy=(8836, 300), xytext=(7300, 1500),\n",
    "arrowprops=dict(facecolor='r', shrink=0.05))\n",
    "plt.annotate('1 BTS comment: 7,409 char counts', xy=(7409, 300), xytext=(6600, 1000),\n",
    "arrowprops=dict(facecolor='r', shrink=0.05))\n",
    "plt.annotate('1 BlackPink comment: 4,560 char counts', xy=(4560, 300), xytext=(3700, 1000),\n",
    "arrowprops=dict(facecolor='r', shrink=0.05));\n",
    "\n",
    "plt.annotate('', xy=(4236, 200), xytext=(4236, 500),\n",
    "arrowprops=dict(facecolor='r', shrink=0.05));\n",
    "\n",
    "plt.annotate('', xy=(4120, 200), xytext=(4120, 500),\n",
    "arrowprops=dict(facecolor='r', shrink=0.05));\n"
   ]
  },
  {
   "cell_type": "markdown",
   "metadata": {},
   "source": [
    "The side-by-side histogram displays that the signficant majority of the comments contain less than 1000 characters. To make this figure more informative, I will split this data to show characters having less than 600 characters and characters having more than 4,000 characters."
   ]
  },
  {
   "cell_type": "code",
   "execution_count": 189,
   "metadata": {},
   "outputs": [
    {
     "data": {
      "image/png": "[encoded data removed]",
      "text/plain": [
       "<Figure size 1440x720 with 1 Axes>"
      ]
     },
     "metadata": {
      "needs_background": "light"
     },
     "output_type": "display_data"
    }
   ],
   "source": [
    "plt.figure(figsize=(20,10))\n",
    "plt.hist([bp_bts_df['char_count'][(bp_bts_df['blackpink']==0) & (bp_bts_df['char_count'] <= 600)], \n",
    "          bp_bts_df['char_count'][(bp_bts_df['blackpink']==1) & (bp_bts_df['char_count'] <= 600)]],\n",
    "         bins=20,color=['black', 'pink'], ec='k')\n",
    "\n",
    "# Character Count Mean : Bts\n",
    "plt.axvline(bp_bts_df['char_count'][(bp_bts_df['blackpink']==0)].mean(), color= \"blue\")\n",
    "\n",
    "# Character Count Mean : Blackpink \n",
    "plt.axvline(bp_bts_df['char_count'][(bp_bts_df['blackpink']==1)].mean(), color= \"red\")\n",
    "\n",
    "plt.title('Character Count by Class (<600 characters)', fontsize=30)\n",
    "plt.ylabel('# of comments', fontsize=20)\n",
    "plt.xlabel('# of characters', fontsize=20)\n",
    "plt.legend(['BTS mean', 'BlackPink mean', 'BTS', 'BlackPink']);\n"
   ]
  },
  {
   "cell_type": "markdown",
   "metadata": {},
   "source": [
    "Both subreddits display a positive right-skew as most of the character counts for both subreddits are between 0 and 600. The blackpink subreddit has a higher number of comments with character counts less than 70; however, Bts subreddit has a higher number of comments for all character counts after that. The average for the Blackpink subreddits' character count is 139 and the average for the Bts subreddits' character count is 196."
   ]
  },
  {
   "cell_type": "code",
   "execution_count": 190,
   "metadata": {},
   "outputs": [
    {
     "data": {
      "text/plain": [
       "(0, 5)"
      ]
     },
     "execution_count": 190,
     "metadata": {},
     "output_type": "execute_result"
    },
    {
     "data": {
      "image/png": "[encoded data removed]",
      "text/plain": [
       "<Figure size 1440x720 with 1 Axes>"
      ]
     },
     "metadata": {
      "needs_background": "light"
     },
     "output_type": "display_data"
    }
   ],
   "source": [
    "plt.figure(figsize=(20,10))\n",
    "plt.hist([bp_bts_df[bp_bts_df['blackpink']==0]['char_count'], \n",
    "          bp_bts_df[bp_bts_df['blackpink']==1]['char_count']],\n",
    "         bins=20, color=['black', 'pink'], ec='k')\n",
    "plt.title('Character Count by Class (>4,000 characters)', fontsize=30)\n",
    "plt.ylabel('# of comments', fontsize=20)\n",
    "plt.xlabel('# of characters', fontsize=20)\n",
    "plt.legend(['BTS', 'BlackPink'])\n",
    "plt.xlim(4000)\n",
    "plt.ylim(0,5)"
   ]
  },
  {
   "cell_type": "markdown",
   "metadata": {},
   "source": [
    "These are the 6 outliers of the data. 5 out of 6 comments that have over 4,000 characters in their body of texts are from the Bts subreddit. The higher character count in the Bts subreddit may be due to the fact that the BTS subreddit has over 56k subscribers whereas the Blackpink subreddit has only 22k subscribers. Though that may not mean too much, one argument it may support is whether or not BTS fans are more active and engaging with their subreddit community which led them to write more lengthy comments than their counterparts."
   ]
  },
  {
   "cell_type": "code",
   "execution_count": 191,
   "metadata": {},
   "outputs": [
    {
     "data": {
      "text/html": [
       "<div>\n",
       "<style scoped>\n",
       "    .dataframe tbody tr th:only-of-type {\n",
       "        vertical-align: middle;\n",
       "    }\n",
       "\n",
       "    .dataframe tbody tr th {\n",
       "        vertical-align: top;\n",
       "    }\n",
       "\n",
       "    .dataframe thead th {\n",
       "        text-align: right;\n",
       "    }\n",
       "</style>\n",
       "<table border=\"1\" class=\"dataframe\">\n",
       "  <thead>\n",
       "    <tr style=\"text-align: right;\">\n",
       "      <th></th>\n",
       "      <th>body</th>\n",
       "      <th>blackpink</th>\n",
       "      <th>char_count</th>\n",
       "      <th>word_count</th>\n",
       "    </tr>\n",
       "  </thead>\n",
       "  <tbody>\n",
       "    <tr>\n",
       "      <th>9714</th>\n",
       "      <td>Namjoon - Athena because she was the goddess o...</td>\n",
       "      <td>0</td>\n",
       "      <td>8836</td>\n",
       "      <td>1531</td>\n",
       "    </tr>\n",
       "    <tr>\n",
       "      <th>16178</th>\n",
       "      <td>I definitely second this! I really wish they w...</td>\n",
       "      <td>0</td>\n",
       "      <td>7409</td>\n",
       "      <td>1291</td>\n",
       "    </tr>\n",
       "    <tr>\n",
       "      <th>7112</th>\n",
       "      <td>Someone on V LIVE did a rough translation: **Q...</td>\n",
       "      <td>1</td>\n",
       "      <td>4560</td>\n",
       "      <td>811</td>\n",
       "    </tr>\n",
       "    <tr>\n",
       "      <th>16206</th>\n",
       "      <td>I've been into BTS for only about 6 months, so...</td>\n",
       "      <td>0</td>\n",
       "      <td>4236</td>\n",
       "      <td>785</td>\n",
       "    </tr>\n",
       "    <tr>\n",
       "      <th>19259</th>\n",
       "      <td>Thank you for sharing your thoughts, first of ...</td>\n",
       "      <td>0</td>\n",
       "      <td>4120</td>\n",
       "      <td>760</td>\n",
       "    </tr>\n",
       "  </tbody>\n",
       "</table>\n",
       "</div>"
      ],
      "text/plain": [
       "                                                    body  blackpink  \\\n",
       "9714   Namjoon - Athena because she was the goddess o...          0   \n",
       "16178  I definitely second this! I really wish they w...          0   \n",
       "7112   Someone on V LIVE did a rough translation: **Q...          1   \n",
       "16206  I've been into BTS for only about 6 months, so...          0   \n",
       "19259  Thank you for sharing your thoughts, first of ...          0   \n",
       "\n",
       "       char_count  word_count  \n",
       "9714         8836        1531  \n",
       "16178        7409        1291  \n",
       "7112         4560         811  \n",
       "16206        4236         785  \n",
       "19259        4120         760  "
      ]
     },
     "execution_count": 191,
     "metadata": {},
     "output_type": "execute_result"
    }
   ],
   "source": [
    "bp_bts_df.sort_values(by='char_count', ascending=False).head()"
   ]
  },
  {
   "cell_type": "markdown",
   "metadata": {},
   "source": [
    "----"
   ]
  },
  {
   "cell_type": "code",
   "execution_count": 192,
   "metadata": {},
   "outputs": [
    {
     "data": {
      "image/png": "[encoded data removed]",
      "text/plain": [
       "<Figure size 1440x720 with 1 Axes>"
      ]
     },
     "metadata": {
      "needs_background": "light"
     },
     "output_type": "display_data"
    }
   ],
   "source": [
    "plt.figure(figsize=(20,10))\n",
    "plt.hist([bp_bts_df[bp_bts_df['blackpink']==0]['word_count'], bp_bts_df[bp_bts_df['blackpink']==1]['word_count']],\n",
    "         bins=20, color=['black', 'pink'], ec='k')\n",
    "plt.title('Word Count by Class', fontsize=30)\n",
    "plt.legend(['BTS', 'BlackPink'])\n",
    "\n",
    "plt.annotate('1 BTS comment: 1,531 word counts', xy=(1531, 300), xytext=(1280, 1450),\n",
    "arrowprops=dict(facecolor='r', shrink=0.05));\n",
    "plt.annotate('1 BTS comment: 1,291 word counts', xy=(1291, 300), xytext=(1250, 1000),\n",
    "arrowprops=dict(facecolor='r', shrink=0.05))\n",
    "plt.annotate('1 BP comment: 811 word counts', xy=(811, 300), xytext=(811, 1000),\n",
    "arrowprops=dict(facecolor='r', shrink=0.05));\n"
   ]
  },
  {
   "cell_type": "markdown",
   "metadata": {},
   "source": [
    "Clearly, the word count by class histogram follows a very similar pattern to the character count by class histogram. This side-by-side histogram displays that the signficant majority of the comments contain less than 100 words. To make this figure more informative, I will also split this data to show the number of comments having less than 60 words. Obviously the outliers in this case are the same outliers from the character count bar plot. 4 of the top 5 comments with the most amount of words all belong to Bts subreddit. "
   ]
  },
  {
   "cell_type": "code",
   "execution_count": 201,
   "metadata": {},
   "outputs": [
    {
     "data": {
      "image/png": "[encoded data removed]",
      "text/plain": [
       "<Figure size 1440x720 with 1 Axes>"
      ]
     },
     "metadata": {
      "needs_background": "light"
     },
     "output_type": "display_data"
    }
   ],
   "source": [
    "plt.figure(figsize=(20,10))\n",
    "plt.hist([bp_bts_df['word_count'][(bp_bts_df['blackpink']==0) & (bp_bts_df['word_count'] <= 60)], \n",
    "          bp_bts_df['word_count'][(bp_bts_df['blackpink']==1) & (bp_bts_df['word_count'] <= 60)]],\n",
    "         bins=20,color=['black', 'pink'], ec='k')\n",
    "# Word Count Mean : Bts\n",
    "plt.axvline(bp_bts_df['word_count'][(bp_bts_df['blackpink']==0)].mean(), color= \"blue\")\n",
    "\n",
    "# Word Count Mean : Blackpink \n",
    "plt.axvline(bp_bts_df['word_count'][(bp_bts_df['blackpink']==1)].mean(), color= \"red\")\n",
    "\n",
    "plt.title('Word Count by Class (<60 words)', fontsize=30)\n",
    "plt.ylabel('# of comments', fontsize=20)\n",
    "plt.xlabel('# of words', fontsize=20)\n",
    "plt.legend(['BTS mean', 'BlackPink mean', 'BTS', 'BlackPink']);"
   ]
  },
  {
   "cell_type": "markdown",
   "metadata": {},
   "source": [
    "Both subreddits display a positive right-skew as most of the word counts for both subreddits are between 1 and 30. Similar to before, the blackpink subreddit has a higher number of comments with word counts less than 12. Then the Bts subreddit has a higher number of comments for all word counts after that. The average for the Blackpink subreddits' word count is 26 and the average for the Bts subreddits' character count is 36."
   ]
  },
  {
   "cell_type": "code",
   "execution_count": 200,
   "metadata": {},
   "outputs": [
    {
     "data": {
      "text/html": [
       "<div>\n",
       "<style scoped>\n",
       "    .dataframe tbody tr th:only-of-type {\n",
       "        vertical-align: middle;\n",
       "    }\n",
       "\n",
       "    .dataframe tbody tr th {\n",
       "        vertical-align: top;\n",
       "    }\n",
       "\n",
       "    .dataframe thead th {\n",
       "        text-align: right;\n",
       "    }\n",
       "</style>\n",
       "<table border=\"1\" class=\"dataframe\">\n",
       "  <thead>\n",
       "    <tr style=\"text-align: right;\">\n",
       "      <th></th>\n",
       "      <th>body</th>\n",
       "      <th>blackpink</th>\n",
       "      <th>char_count</th>\n",
       "      <th>word_count</th>\n",
       "    </tr>\n",
       "  </thead>\n",
       "  <tbody>\n",
       "    <tr>\n",
       "      <th>9714</th>\n",
       "      <td>Namjoon - Athena because she was the goddess o...</td>\n",
       "      <td>0</td>\n",
       "      <td>8836</td>\n",
       "      <td>1531</td>\n",
       "    </tr>\n",
       "    <tr>\n",
       "      <th>16178</th>\n",
       "      <td>I definitely second this! I really wish they w...</td>\n",
       "      <td>0</td>\n",
       "      <td>7409</td>\n",
       "      <td>1291</td>\n",
       "    </tr>\n",
       "    <tr>\n",
       "      <th>7112</th>\n",
       "      <td>Someone on V LIVE did a rough translation: **Q...</td>\n",
       "      <td>1</td>\n",
       "      <td>4560</td>\n",
       "      <td>811</td>\n",
       "    </tr>\n",
       "  </tbody>\n",
       "</table>\n",
       "</div>"
      ],
      "text/plain": [
       "                                                    body  blackpink  \\\n",
       "9714   Namjoon - Athena because she was the goddess o...          0   \n",
       "16178  I definitely second this! I really wish they w...          0   \n",
       "7112   Someone on V LIVE did a rough translation: **Q...          1   \n",
       "\n",
       "       char_count  word_count  \n",
       "9714         8836        1531  \n",
       "16178        7409        1291  \n",
       "7112         4560         811  "
      ]
     },
     "execution_count": 200,
     "metadata": {},
     "output_type": "execute_result"
    }
   ],
   "source": [
    "bp_bts_df.sort_values(by='word_count', ascending=False).head(3)"
   ]
  },
  {
   "cell_type": "markdown",
   "metadata": {},
   "source": [
    "Using regex to lower all characters in the comment (body) column and also substitute any non-alphabetical or non-numeric characters to a regular one white-space. Lastly, we are removing any new duplicate values that could have been created after our regex use."
   ]
  },
  {
   "cell_type": "code",
   "execution_count": 207,
   "metadata": {},
   "outputs": [],
   "source": [
    "bp_bts_df['body']= bp_bts_df.body.map(lambda x: x.lower())"
   ]
  },
  {
   "cell_type": "code",
   "execution_count": 208,
   "metadata": {},
   "outputs": [],
   "source": [
    "bp_bts_df['body'] = bp_bts_df.body.map(lambda x: re.sub('[^A-z0-9]', ' ', x)) # removing anything that is not a letter or number"
   ]
  },
  {
   "cell_type": "code",
   "execution_count": 209,
   "metadata": {},
   "outputs": [
    {
     "data": {
      "text/plain": [
       "(18774, 4)"
      ]
     },
     "execution_count": 209,
     "metadata": {},
     "output_type": "execute_result"
    }
   ],
   "source": [
    "bp_bts_df.shape"
   ]
  },
  {
   "cell_type": "code",
   "execution_count": 210,
   "metadata": {},
   "outputs": [],
   "source": [
    "bp_bts_df.drop_duplicates(inplace=True)"
   ]
  },
  {
   "cell_type": "code",
   "execution_count": 213,
   "metadata": {},
   "outputs": [
    {
     "data": {
      "text/plain": [
       "(18736, 4)"
      ]
     },
     "execution_count": 213,
     "metadata": {},
     "output_type": "execute_result"
    }
   ],
   "source": [
    "bp_bts_df.shape"
   ]
  },
  {
   "cell_type": "code",
   "execution_count": 214,
   "metadata": {},
   "outputs": [],
   "source": [
    "bp_bts_df.to_csv('./data/bp_bts_df_clean.csv', index=False)"
   ]
  },
  {
   "cell_type": "markdown",
   "metadata": {},
   "source": [
    "## **Please continue to Notebook 03: Preprocessing**"
   ]
  }
 ],
 "metadata": {
  "kernelspec": {
   "display_name": "Python 3",
   "language": "python",
   "name": "python3"
  },
  "language_info": {
   "codemirror_mode": {
    "name": "ipython",
    "version": 3
   },
   "file_extension": ".py",
   "mimetype": "text/x-python",
   "name": "python",
   "nbconvert_exporter": "python",
   "pygments_lexer": "ipython3",
   "version": "3.6.8"
  }
 },
 "nbformat": 4,
 "nbformat_minor": 2
}
