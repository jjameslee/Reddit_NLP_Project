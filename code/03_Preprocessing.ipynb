{
 "cells": [
  {
   "cell_type": "markdown",
   "metadata": {},
   "source": [
    "In the previous notebook, we cleaned the data by removing all comments from both subreddits that were either deleted, removed, or created from bots. After plotting out the bar graph of each members' number of mentions, it turns out Lisa is the most mentioned member of Blackpink in our data, followed by Jennie, Jisoo and Rose. In many online platforms, there seems to be a general consensus acknowledging Lisa as the most popular Blackpink member *internationally*.\n",
    "From searching the context of the comments containing 'lisa' as well as research in outside resource, we were able to derive a few assumptions as to the reason why Lisa is the more popular member:\n",
    "* Lisa is the only *ethnically* foreign member of the group\n",
    "* Lisa, along with Jennie, is the rapper of the group who portrays a *girl-crush* concept among female fans \n",
    "* Lisa has outstanding appearance and over-all talent (strong performer and the best dancer of the group)\n",
    "\n",
    "We also noticed the distributions of the character/word count for the 2 subreddits displaying comments from the BTS subreddit being on average lengthier than the comments from the Blackpink subreddit. This may be due to the fact that the BTS subreddit has double the amount of subscribers than the Blackpink subreddit. There can be an argument claiming fans from the Bts subreddit are more active and engaging within their subreddit community.\n",
    "\n",
    "### Next Steps: \n",
    "After cleaning and providing the initial EDA of the data, we will now preprocess the data to have it set up for modeling in this notebook. We plan to convert the text data to a matrix representation and implement our own customized list of stop-words to filter out insignificant common terminologies in the data. Once this is completed, we will identify the most frequently used words in the comments from both subreddits. Once we identify these key words, we will interpret them to see how it fits within our narratives for our problem statement. "
   ]
  },
  {
   "cell_type": "code",
   "execution_count": 277,
   "metadata": {},
   "outputs": [],
   "source": [
    "import pandas as pd\n",
    "import numpy as np\n",
    "import matplotlib.pyplot as plt\n",
    "import pickle\n",
    "import nltk\n",
    "from nltk.corpus import stopwords\n",
    "from nltk.stem import WordNetLemmatizer\n",
    "from nltk.tokenize import RegexpTokenizer\n",
    "from sklearn.model_selection import train_test_split\n",
    "from sklearn.feature_extraction.text import CountVectorizer\n",
    "from sklearn.model_selection import train_test_split, GridSearchCV\n",
    "\n",
    "%matplotlib inline"
   ]
  },
  {
   "cell_type": "code",
   "execution_count": 210,
   "metadata": {},
   "outputs": [
    {
     "name": "stdout",
     "output_type": "stream",
     "text": [
      "(18736, 4)\n"
     ]
    },
    {
     "data": {
      "text/html": [
       "<div>\n",
       "<style scoped>\n",
       "    .dataframe tbody tr th:only-of-type {\n",
       "        vertical-align: middle;\n",
       "    }\n",
       "\n",
       "    .dataframe tbody tr th {\n",
       "        vertical-align: top;\n",
       "    }\n",
       "\n",
       "    .dataframe thead th {\n",
       "        text-align: right;\n",
       "    }\n",
       "</style>\n",
       "<table border=\"1\" class=\"dataframe\">\n",
       "  <thead>\n",
       "    <tr style=\"text-align: right;\">\n",
       "      <th></th>\n",
       "      <th>body</th>\n",
       "      <th>blackpink</th>\n",
       "      <th>char_count</th>\n",
       "      <th>word_count</th>\n",
       "    </tr>\n",
       "  </thead>\n",
       "  <tbody>\n",
       "    <tr>\n",
       "      <th>0</th>\n",
       "      <td>this is something i can get behind and appreci...</td>\n",
       "      <td>1</td>\n",
       "      <td>1043</td>\n",
       "      <td>188</td>\n",
       "    </tr>\n",
       "    <tr>\n",
       "      <th>1</th>\n",
       "      <td>hold the fuck up   rock songs  i m considering...</td>\n",
       "      <td>1</td>\n",
       "      <td>75</td>\n",
       "      <td>12</td>\n",
       "    </tr>\n",
       "    <tr>\n",
       "      <th>2</th>\n",
       "      <td>what time and date is this in pdt  0 am is a b...</td>\n",
       "      <td>1</td>\n",
       "      <td>106</td>\n",
       "      <td>27</td>\n",
       "    </tr>\n",
       "    <tr>\n",
       "      <th>3</th>\n",
       "      <td>is there a list  last year i remember they str...</td>\n",
       "      <td>1</td>\n",
       "      <td>84</td>\n",
       "      <td>16</td>\n",
       "    </tr>\n",
       "    <tr>\n",
       "      <th>4</th>\n",
       "      <td>as a blink i ll wait till mv dropped  then i l...</td>\n",
       "      <td>1</td>\n",
       "      <td>149</td>\n",
       "      <td>33</td>\n",
       "    </tr>\n",
       "  </tbody>\n",
       "</table>\n",
       "</div>"
      ],
      "text/plain": [
       "                                                body  blackpink  char_count  \\\n",
       "0  this is something i can get behind and appreci...          1        1043   \n",
       "1  hold the fuck up   rock songs  i m considering...          1          75   \n",
       "2  what time and date is this in pdt  0 am is a b...          1         106   \n",
       "3  is there a list  last year i remember they str...          1          84   \n",
       "4  as a blink i ll wait till mv dropped  then i l...          1         149   \n",
       "\n",
       "   word_count  \n",
       "0         188  \n",
       "1          12  \n",
       "2          27  \n",
       "3          16  \n",
       "4          33  "
      ]
     },
     "execution_count": 210,
     "metadata": {},
     "output_type": "execute_result"
    }
   ],
   "source": [
    "bp_bts_df = pd.read_csv('./data/bp_bts_df_clean.csv')\n",
    "print(bp_bts_df.shape)\n",
    "bp_bts_df.head()"
   ]
  },
  {
   "cell_type": "markdown",
   "metadata": {},
   "source": [
    "We want to do a simple binary classification in order to accurately classify a comment into the correct group subreddit. Thus, by doing so we will be able to highlight some of the more important words that may distinguish the difference between the two fan communities as well as collecting honest feedbacks of the groups from the fans standpoint that will definitely be informative to marketing/promotion team of YG Ent. Before we can even start using this data for predictive modeling, we must first prepare the text data. In the previous notebook, we *tokenized* (splitting data into distinct chunks based on patterns) the texts by removing certain pattterns across all comments using regex. Then the words will need to be encored as integer counts to be used on a machine learning algorithm.\n",
    "The scikit-learn library offers tools for feature extraction of our text data, we will start off by implementing CountVectorizer.\n",
    "\n",
    "For now we are using this tool for EDA purposes by collecting words that occur within the default paramters in order to compare it to our more advanced CountVectorizer. \n",
    "\n",
    "## Scikit-Learn: CountVectorizer"
   ]
  },
  {
   "cell_type": "code",
   "execution_count": 211,
   "metadata": {},
   "outputs": [],
   "source": [
    "y_target = bp_bts_df['blackpink']"
   ]
  },
  {
   "cell_type": "code",
   "execution_count": 212,
   "metadata": {},
   "outputs": [],
   "source": [
    "cvec = CountVectorizer(max_features=500,   \n",
    "                      stop_words = 'english',\n",
    "                      analyzer='word')"
   ]
  },
  {
   "cell_type": "code",
   "execution_count": 213,
   "metadata": {},
   "outputs": [],
   "source": [
    "bp_bts_cvec= cvec.fit_transform(bp_bts_df['body'])"
   ]
  },
  {
   "cell_type": "code",
   "execution_count": 214,
   "metadata": {},
   "outputs": [],
   "source": [
    "bp_bts_cvec_df = pd.SparseDataFrame(bp_bts_cvec, columns=cvec.get_feature_names())"
   ]
  },
  {
   "cell_type": "code",
   "execution_count": 215,
   "metadata": {},
   "outputs": [],
   "source": [
    "bp_bts_cvec_df['blackpink'] = y_target"
   ]
  },
  {
   "cell_type": "code",
   "execution_count": 216,
   "metadata": {},
   "outputs": [
    {
     "data": {
      "text/html": [
       "<div>\n",
       "<style scoped>\n",
       "    .dataframe tbody tr th:only-of-type {\n",
       "        vertical-align: middle;\n",
       "    }\n",
       "\n",
       "    .dataframe tbody tr th {\n",
       "        vertical-align: top;\n",
       "    }\n",
       "\n",
       "    .dataframe thead th {\n",
       "        text-align: right;\n",
       "    }\n",
       "</style>\n",
       "<table border=\"1\" class=\"dataframe\">\n",
       "  <thead>\n",
       "    <tr style=\"text-align: right;\">\n",
       "      <th></th>\n",
       "      <th>10</th>\n",
       "      <th>100</th>\n",
       "      <th>12</th>\n",
       "      <th>30</th>\n",
       "      <th>able</th>\n",
       "      <th>absolutely</th>\n",
       "      <th>account</th>\n",
       "      <th>actual</th>\n",
       "      <th>actually</th>\n",
       "      <th>adorable</th>\n",
       "      <th>...</th>\n",
       "      <th>x200b</th>\n",
       "      <th>xd</th>\n",
       "      <th>yeah</th>\n",
       "      <th>year</th>\n",
       "      <th>years</th>\n",
       "      <th>yes</th>\n",
       "      <th>yg</th>\n",
       "      <th>yoongi</th>\n",
       "      <th>young</th>\n",
       "      <th>youtube</th>\n",
       "    </tr>\n",
       "  </thead>\n",
       "  <tbody>\n",
       "    <tr>\n",
       "      <th>0</th>\n",
       "      <td>NaN</td>\n",
       "      <td>NaN</td>\n",
       "      <td>NaN</td>\n",
       "      <td>NaN</td>\n",
       "      <td>NaN</td>\n",
       "      <td>NaN</td>\n",
       "      <td>NaN</td>\n",
       "      <td>NaN</td>\n",
       "      <td>NaN</td>\n",
       "      <td>NaN</td>\n",
       "      <td>...</td>\n",
       "      <td>NaN</td>\n",
       "      <td>NaN</td>\n",
       "      <td>NaN</td>\n",
       "      <td>NaN</td>\n",
       "      <td>NaN</td>\n",
       "      <td>NaN</td>\n",
       "      <td>NaN</td>\n",
       "      <td>NaN</td>\n",
       "      <td>NaN</td>\n",
       "      <td>NaN</td>\n",
       "    </tr>\n",
       "    <tr>\n",
       "      <th>1</th>\n",
       "      <td>NaN</td>\n",
       "      <td>NaN</td>\n",
       "      <td>NaN</td>\n",
       "      <td>NaN</td>\n",
       "      <td>NaN</td>\n",
       "      <td>NaN</td>\n",
       "      <td>NaN</td>\n",
       "      <td>NaN</td>\n",
       "      <td>NaN</td>\n",
       "      <td>NaN</td>\n",
       "      <td>...</td>\n",
       "      <td>NaN</td>\n",
       "      <td>NaN</td>\n",
       "      <td>NaN</td>\n",
       "      <td>NaN</td>\n",
       "      <td>NaN</td>\n",
       "      <td>NaN</td>\n",
       "      <td>NaN</td>\n",
       "      <td>NaN</td>\n",
       "      <td>NaN</td>\n",
       "      <td>NaN</td>\n",
       "    </tr>\n",
       "    <tr>\n",
       "      <th>2</th>\n",
       "      <td>NaN</td>\n",
       "      <td>NaN</td>\n",
       "      <td>NaN</td>\n",
       "      <td>NaN</td>\n",
       "      <td>NaN</td>\n",
       "      <td>NaN</td>\n",
       "      <td>NaN</td>\n",
       "      <td>NaN</td>\n",
       "      <td>NaN</td>\n",
       "      <td>NaN</td>\n",
       "      <td>...</td>\n",
       "      <td>NaN</td>\n",
       "      <td>NaN</td>\n",
       "      <td>NaN</td>\n",
       "      <td>NaN</td>\n",
       "      <td>NaN</td>\n",
       "      <td>NaN</td>\n",
       "      <td>NaN</td>\n",
       "      <td>NaN</td>\n",
       "      <td>NaN</td>\n",
       "      <td>NaN</td>\n",
       "    </tr>\n",
       "    <tr>\n",
       "      <th>3</th>\n",
       "      <td>NaN</td>\n",
       "      <td>NaN</td>\n",
       "      <td>NaN</td>\n",
       "      <td>NaN</td>\n",
       "      <td>NaN</td>\n",
       "      <td>NaN</td>\n",
       "      <td>NaN</td>\n",
       "      <td>NaN</td>\n",
       "      <td>NaN</td>\n",
       "      <td>NaN</td>\n",
       "      <td>...</td>\n",
       "      <td>NaN</td>\n",
       "      <td>NaN</td>\n",
       "      <td>NaN</td>\n",
       "      <td>1.0</td>\n",
       "      <td>NaN</td>\n",
       "      <td>NaN</td>\n",
       "      <td>NaN</td>\n",
       "      <td>NaN</td>\n",
       "      <td>NaN</td>\n",
       "      <td>NaN</td>\n",
       "    </tr>\n",
       "    <tr>\n",
       "      <th>4</th>\n",
       "      <td>NaN</td>\n",
       "      <td>NaN</td>\n",
       "      <td>NaN</td>\n",
       "      <td>NaN</td>\n",
       "      <td>NaN</td>\n",
       "      <td>NaN</td>\n",
       "      <td>NaN</td>\n",
       "      <td>NaN</td>\n",
       "      <td>NaN</td>\n",
       "      <td>NaN</td>\n",
       "      <td>...</td>\n",
       "      <td>NaN</td>\n",
       "      <td>NaN</td>\n",
       "      <td>NaN</td>\n",
       "      <td>1.0</td>\n",
       "      <td>NaN</td>\n",
       "      <td>NaN</td>\n",
       "      <td>NaN</td>\n",
       "      <td>NaN</td>\n",
       "      <td>NaN</td>\n",
       "      <td>NaN</td>\n",
       "    </tr>\n",
       "  </tbody>\n",
       "</table>\n",
       "<p>5 rows × 500 columns</p>\n",
       "</div>"
      ],
      "text/plain": [
       "   10  100  12  30  able  absolutely  account  actual  actually  adorable  \\\n",
       "0 NaN  NaN NaN NaN   NaN         NaN      NaN     NaN       NaN       NaN   \n",
       "1 NaN  NaN NaN NaN   NaN         NaN      NaN     NaN       NaN       NaN   \n",
       "2 NaN  NaN NaN NaN   NaN         NaN      NaN     NaN       NaN       NaN   \n",
       "3 NaN  NaN NaN NaN   NaN         NaN      NaN     NaN       NaN       NaN   \n",
       "4 NaN  NaN NaN NaN   NaN         NaN      NaN     NaN       NaN       NaN   \n",
       "\n",
       "   ...  x200b  xd  yeah  year  years  yes  yg  yoongi  young  youtube  \n",
       "0  ...    NaN NaN   NaN   NaN    NaN  NaN NaN     NaN    NaN      NaN  \n",
       "1  ...    NaN NaN   NaN   NaN    NaN  NaN NaN     NaN    NaN      NaN  \n",
       "2  ...    NaN NaN   NaN   NaN    NaN  NaN NaN     NaN    NaN      NaN  \n",
       "3  ...    NaN NaN   NaN   1.0    NaN  NaN NaN     NaN    NaN      NaN  \n",
       "4  ...    NaN NaN   NaN   1.0    NaN  NaN NaN     NaN    NaN      NaN  \n",
       "\n",
       "[5 rows x 500 columns]"
      ]
     },
     "execution_count": 216,
     "metadata": {},
     "output_type": "execute_result"
    }
   ],
   "source": [
    "bp_bts_cvec_df.head()"
   ]
  },
  {
   "cell_type": "code",
   "execution_count": 217,
   "metadata": {},
   "outputs": [],
   "source": [
    "bp_bts_cvec_df.fillna(0, inplace=True)"
   ]
  },
  {
   "cell_type": "markdown",
   "metadata": {},
   "source": [
    "The top 20 most common words from the Blackpink subreddit are posted below. Unsurprisingly, the word 'blackpink' is the most frequent word used in the Blackpink subreddit. Most of these words provide not much significant information (just, like, think, know, ll, lol). \n",
    "The words (tickets, going, got) are from fans discussing the world-tour that Blackpink is currently doing. Based on the context, it seems many fans are excited to go to the concerts by seeking to purchase the tickets. As expected the word 'comeback' is also mentioned frequently. Blackpink is expected to release a mini album on April 5th, 2019 titled \"Kill This Love\" with the 2 songs \"Kill This Love\" and \"Don't Know What To Do.\" It seems the words 'love', 'don', and 'know' are fans discussing the upcoming new songs in the comeback album."
   ]
  },
  {
   "cell_type": "code",
   "execution_count": 218,
   "metadata": {},
   "outputs": [
    {
     "data": {
      "text/plain": [
       "blackpink    9215\n",
       "just         1397\n",
       "like         1227\n",
       "tickets       876\n",
       "think         840\n",
       "don           787\n",
       "really        780\n",
       "bp            724\n",
       "know          664\n",
       "time          638\n",
       "yg            636\n",
       "people        624\n",
       "jennie        531\n",
       "going         519\n",
       "comeback      503\n",
       "love          469\n",
       "lisa          458\n",
       "got           449\n",
       "ll            427\n",
       "lol           427\n",
       "dtype: int64"
      ]
     },
     "execution_count": 218,
     "metadata": {},
     "output_type": "execute_result"
    }
   ],
   "source": [
    "bp_bts_cvec_df[bp_bts_cvec_df.blackpink == 1].sum().sort_values(ascending = False).head(20)"
   ]
  },
  {
   "cell_type": "markdown",
   "metadata": {},
   "source": [
    "The top 20 most common words from the Bts subreddit are posted below. The word (rather an acronym) 'bts' is among the most frequent word used in the Bangtan subreddit. Much like before, most of these words provide not much significant information (just, like, really, think, don, know, ve, lol, amp). \n",
    "The word 'tickets' is also from fans discussing the world-tour that Bts is currently doing. Based on the context, it seems many fans are excited to go to the concerts. As expected the words 'album' and 'music' are also mentioned frequently. Bts is expected to release a album on April 12th, 2019 titled \"Map the soul: persona\"."
   ]
  },
  {
   "cell_type": "code",
   "execution_count": 219,
   "metadata": {},
   "outputs": [
    {
     "data": {
      "text/plain": [
       "like       2293\n",
       "just       1889\n",
       "bts        1639\n",
       "love       1383\n",
       "really     1248\n",
       "think      1158\n",
       "don        1076\n",
       "know        903\n",
       "people      871\n",
       "time        759\n",
       "good        682\n",
       "ve          675\n",
       "lol         673\n",
       "namjoon     584\n",
       "music       571\n",
       "amp         550\n",
       "song        537\n",
       "want        528\n",
       "album       522\n",
       "tickets     513\n",
       "dtype: int64"
      ]
     },
     "execution_count": 219,
     "metadata": {},
     "output_type": "execute_result"
    }
   ],
   "source": [
    "bp_bts_cvec_df[bp_bts_cvec_df.blackpink == 0].sum().sort_values(ascending = False).head(20)"
   ]
  },
  {
   "cell_type": "markdown",
   "metadata": {},
   "source": [
    "After a couple trials, we added a few more words into the original stopwords to fish out more important words that may give us better insight on the organic response of the online fan communities of the 2 groups in reddit. Bulk of the new stop words added are the name of the 2 groups as well as the members of each group. We also want to remove many of the common words that popped up above.\n",
    "\n",
    "Once we formed our new stopwords, we pickled it so that it can be saved and called upon in our future notebooks. More information on pickling can be found [here](https://pythontips.com/2013/08/02/what-is-pickle-in-python/).\n",
    "\n"
   ]
  },
  {
   "cell_type": "code",
   "execution_count": 222,
   "metadata": {},
   "outputs": [],
   "source": [
    "stopwords = nltk.corpus.stopwords.words('english')\n",
    "newStopWords = ['bts','blackpink', 'bangtan',\n",
    "                'bp', 'jennie', 'jisoo', 'rose',\n",
    "                'ros', 'rosie',\n",
    "                'lisa', 'jungkook', 'jimin', 'v',\n",
    "                'rm', 'namjoon', 'suga', 'jin', 'jhope',\n",
    "                'boys', 'boy', 'girls', 'girl',\n",
    "                 'just', 'really', 'blink',\n",
    "                've', 'lol', 'kpop', 'think', 'don', 'amp', 'll',\n",
    "               'one', 'would', 'also', 'even',\n",
    "               'know', 'much', 'well', 'still', 'first',\n",
    "               'yge', 'atlanta', 'p2', 'bots', 'yoongi',\n",
    "               'joon', 'tae', 'taehyung', 'hobi', 'hoseok']\n",
    "stopwords.extend(newStopWords)"
   ]
  },
  {
   "cell_type": "code",
   "execution_count": 223,
   "metadata": {},
   "outputs": [],
   "source": [
    "# Pickling the stop words\n",
    "\n",
    "with open('./assets/stopwords.pkl', 'wb') as f:\n",
    "    pickle.dump(stopwords, f)"
   ]
  },
  {
   "cell_type": "markdown",
   "metadata": {},
   "source": [
    "We will implement the same CountVectorizer as before, instead this time we will use our own version of the stopwords and limit the max features from 500 to 100. This will build a vocabulary that only considers the top 100 words ordered by the frequency across the all comments."
   ]
  },
  {
   "cell_type": "code",
   "execution_count": 225,
   "metadata": {},
   "outputs": [],
   "source": [
    "cvec = CountVectorizer(max_features=100,   \n",
    "                      stop_words = stopwords,\n",
    "                      analyzer='word')"
   ]
  },
  {
   "cell_type": "markdown",
   "metadata": {},
   "source": [
    "We will start with the comments from the Blackpink subreddit by fitting and transforming the body of comments from only Blackpink subreddit. Then by converting the word vector into a sparse dataframe consisting of the top 100 words as its' columns, we will be able to use this for form a plot."
   ]
  },
  {
   "cell_type": "code",
   "execution_count": 226,
   "metadata": {},
   "outputs": [],
   "source": [
    "bp_body = bp_bts_df[bp_bts_df['blackpink'] == 1]['body']"
   ]
  },
  {
   "cell_type": "code",
   "execution_count": 227,
   "metadata": {},
   "outputs": [],
   "source": [
    "bp_cvec = cvec.fit_transform(bp_body)"
   ]
  },
  {
   "cell_type": "code",
   "execution_count": 228,
   "metadata": {},
   "outputs": [],
   "source": [
    "bp_df = pd.SparseDataFrame(bp_cvec,\n",
    "                             columns=cvec.get_feature_names())"
   ]
  },
  {
   "cell_type": "code",
   "execution_count": 229,
   "metadata": {},
   "outputs": [
    {
     "data": {
      "text/html": [
       "<div>\n",
       "<style scoped>\n",
       "    .dataframe tbody tr th:only-of-type {\n",
       "        vertical-align: middle;\n",
       "    }\n",
       "\n",
       "    .dataframe tbody tr th {\n",
       "        vertical-align: top;\n",
       "    }\n",
       "\n",
       "    .dataframe thead th {\n",
       "        text-align: right;\n",
       "    }\n",
       "</style>\n",
       "<table border=\"1\" class=\"dataframe\">\n",
       "  <thead>\n",
       "    <tr style=\"text-align: right;\">\n",
       "      <th></th>\n",
       "      <th>actually</th>\n",
       "      <th>album</th>\n",
       "      <th>already</th>\n",
       "      <th>always</th>\n",
       "      <th>another</th>\n",
       "      <th>anyone</th>\n",
       "      <th>around</th>\n",
       "      <th>back</th>\n",
       "      <th>best</th>\n",
       "      <th>better</th>\n",
       "      <th>...</th>\n",
       "      <th>vip</th>\n",
       "      <th>wait</th>\n",
       "      <th>want</th>\n",
       "      <th>way</th>\n",
       "      <th>work</th>\n",
       "      <th>x200b</th>\n",
       "      <th>yeah</th>\n",
       "      <th>year</th>\n",
       "      <th>yes</th>\n",
       "      <th>yg</th>\n",
       "    </tr>\n",
       "  </thead>\n",
       "  <tbody>\n",
       "    <tr>\n",
       "      <th>0</th>\n",
       "      <td>NaN</td>\n",
       "      <td>1.0</td>\n",
       "      <td>NaN</td>\n",
       "      <td>NaN</td>\n",
       "      <td>NaN</td>\n",
       "      <td>NaN</td>\n",
       "      <td>NaN</td>\n",
       "      <td>NaN</td>\n",
       "      <td>NaN</td>\n",
       "      <td>NaN</td>\n",
       "      <td>...</td>\n",
       "      <td>NaN</td>\n",
       "      <td>NaN</td>\n",
       "      <td>NaN</td>\n",
       "      <td>NaN</td>\n",
       "      <td>NaN</td>\n",
       "      <td>NaN</td>\n",
       "      <td>NaN</td>\n",
       "      <td>NaN</td>\n",
       "      <td>NaN</td>\n",
       "      <td>NaN</td>\n",
       "    </tr>\n",
       "    <tr>\n",
       "      <th>1</th>\n",
       "      <td>NaN</td>\n",
       "      <td>NaN</td>\n",
       "      <td>NaN</td>\n",
       "      <td>NaN</td>\n",
       "      <td>NaN</td>\n",
       "      <td>NaN</td>\n",
       "      <td>NaN</td>\n",
       "      <td>NaN</td>\n",
       "      <td>NaN</td>\n",
       "      <td>NaN</td>\n",
       "      <td>...</td>\n",
       "      <td>NaN</td>\n",
       "      <td>NaN</td>\n",
       "      <td>NaN</td>\n",
       "      <td>NaN</td>\n",
       "      <td>NaN</td>\n",
       "      <td>NaN</td>\n",
       "      <td>NaN</td>\n",
       "      <td>NaN</td>\n",
       "      <td>NaN</td>\n",
       "      <td>NaN</td>\n",
       "    </tr>\n",
       "    <tr>\n",
       "      <th>2</th>\n",
       "      <td>NaN</td>\n",
       "      <td>NaN</td>\n",
       "      <td>NaN</td>\n",
       "      <td>NaN</td>\n",
       "      <td>NaN</td>\n",
       "      <td>NaN</td>\n",
       "      <td>NaN</td>\n",
       "      <td>NaN</td>\n",
       "      <td>NaN</td>\n",
       "      <td>NaN</td>\n",
       "      <td>...</td>\n",
       "      <td>NaN</td>\n",
       "      <td>NaN</td>\n",
       "      <td>NaN</td>\n",
       "      <td>NaN</td>\n",
       "      <td>NaN</td>\n",
       "      <td>NaN</td>\n",
       "      <td>NaN</td>\n",
       "      <td>NaN</td>\n",
       "      <td>NaN</td>\n",
       "      <td>NaN</td>\n",
       "    </tr>\n",
       "    <tr>\n",
       "      <th>3</th>\n",
       "      <td>NaN</td>\n",
       "      <td>NaN</td>\n",
       "      <td>NaN</td>\n",
       "      <td>NaN</td>\n",
       "      <td>NaN</td>\n",
       "      <td>NaN</td>\n",
       "      <td>NaN</td>\n",
       "      <td>NaN</td>\n",
       "      <td>NaN</td>\n",
       "      <td>NaN</td>\n",
       "      <td>...</td>\n",
       "      <td>NaN</td>\n",
       "      <td>NaN</td>\n",
       "      <td>NaN</td>\n",
       "      <td>NaN</td>\n",
       "      <td>NaN</td>\n",
       "      <td>NaN</td>\n",
       "      <td>NaN</td>\n",
       "      <td>1.0</td>\n",
       "      <td>NaN</td>\n",
       "      <td>NaN</td>\n",
       "    </tr>\n",
       "    <tr>\n",
       "      <th>4</th>\n",
       "      <td>NaN</td>\n",
       "      <td>1.0</td>\n",
       "      <td>NaN</td>\n",
       "      <td>NaN</td>\n",
       "      <td>NaN</td>\n",
       "      <td>NaN</td>\n",
       "      <td>NaN</td>\n",
       "      <td>NaN</td>\n",
       "      <td>NaN</td>\n",
       "      <td>NaN</td>\n",
       "      <td>...</td>\n",
       "      <td>NaN</td>\n",
       "      <td>1.0</td>\n",
       "      <td>NaN</td>\n",
       "      <td>NaN</td>\n",
       "      <td>NaN</td>\n",
       "      <td>NaN</td>\n",
       "      <td>NaN</td>\n",
       "      <td>1.0</td>\n",
       "      <td>NaN</td>\n",
       "      <td>NaN</td>\n",
       "    </tr>\n",
       "  </tbody>\n",
       "</table>\n",
       "<p>5 rows × 100 columns</p>\n",
       "</div>"
      ],
      "text/plain": [
       "   actually  album  already  always  another  anyone  around  back  best  \\\n",
       "0       NaN    1.0      NaN     NaN      NaN     NaN     NaN   NaN   NaN   \n",
       "1       NaN    NaN      NaN     NaN      NaN     NaN     NaN   NaN   NaN   \n",
       "2       NaN    NaN      NaN     NaN      NaN     NaN     NaN   NaN   NaN   \n",
       "3       NaN    NaN      NaN     NaN      NaN     NaN     NaN   NaN   NaN   \n",
       "4       NaN    1.0      NaN     NaN      NaN     NaN     NaN   NaN   NaN   \n",
       "\n",
       "   better  ...  vip  wait  want  way  work  x200b  yeah  year  yes  yg  \n",
       "0     NaN  ...  NaN   NaN   NaN  NaN   NaN    NaN   NaN   NaN  NaN NaN  \n",
       "1     NaN  ...  NaN   NaN   NaN  NaN   NaN    NaN   NaN   NaN  NaN NaN  \n",
       "2     NaN  ...  NaN   NaN   NaN  NaN   NaN    NaN   NaN   NaN  NaN NaN  \n",
       "3     NaN  ...  NaN   NaN   NaN  NaN   NaN    NaN   NaN   1.0  NaN NaN  \n",
       "4     NaN  ...  NaN   1.0   NaN  NaN   NaN    NaN   NaN   1.0  NaN NaN  \n",
       "\n",
       "[5 rows x 100 columns]"
      ]
     },
     "execution_count": 229,
     "metadata": {},
     "output_type": "execute_result"
    }
   ],
   "source": [
    "bp_df.head()"
   ]
  },
  {
   "cell_type": "code",
   "execution_count": 230,
   "metadata": {},
   "outputs": [],
   "source": [
    "bp_df.fillna(0, inplace=True)"
   ]
  },
  {
   "cell_type": "code",
   "execution_count": 231,
   "metadata": {},
   "outputs": [],
   "source": [
    "bp_top_20 = bp_df.sum().sort_values(ascending = False).head(20)"
   ]
  },
  {
   "cell_type": "markdown",
   "metadata": {},
   "source": [
    "We will sort the most frequently used words from the Blackpink comments in descending order, of course excluding all the stop words.\n",
    "The following words below are the top 20 most frequently used words in the BlackPink subreddit:"
   ]
  },
  {
   "cell_type": "code",
   "execution_count": 232,
   "metadata": {},
   "outputs": [
    {
     "data": {
      "text/plain": [
       "like        1227\n",
       "tickets      876\n",
       "get          855\n",
       "see          670\n",
       "time         638\n",
       "yg           636\n",
       "people       624\n",
       "going        519\n",
       "comeback     503\n",
       "love         469\n",
       "got          449\n",
       "good         426\n",
       "go           423\n",
       "songs        401\n",
       "concert      382\n",
       "want         363\n",
       "us           359\n",
       "music        344\n",
       "new          338\n",
       "look         334\n",
       "dtype: int64"
      ]
     },
     "execution_count": 232,
     "metadata": {},
     "output_type": "execute_result"
    }
   ],
   "source": [
    "bp_top_20"
   ]
  },
  {
   "cell_type": "code",
   "execution_count": 233,
   "metadata": {},
   "outputs": [
    {
     "data": {
      "text/plain": [
       "Text(0, 0.5, 'Words')"
      ]
     },
     "execution_count": 233,
     "metadata": {},
     "output_type": "execute_result"
    },
    {
     "data": {
      "image/png": "[encoded data removed]",
      "text/plain": [
       "<Figure size 1440x720 with 1 Axes>"
      ]
     },
     "metadata": {
      "needs_background": "light"
     },
     "output_type": "display_data"
    }
   ],
   "source": [
    "\n",
    "plt.figure(figsize=(20,10))\n",
    "plt.barh(bp_top_20.index, bp_top_20)\n",
    "plt.title('Top 20 words (Blackpink)', fontsize=30)\n",
    "plt.xlabel('Frequency', fontsize=20)\n",
    "plt.ylabel('Words', fontsize=20)\n",
    "\n"
   ]
  },
  {
   "cell_type": "markdown",
   "metadata": {},
   "source": [
    "Among the top 20 words listed above, there are a few key words that we will focus on, such as tickets, yg, comeback, songs, music and new. In regards to the problem statement at hand, we believe it is crucial to understand the organic response from these online communities in regards to their upcoming album, songs, concerts and even the entertainment agency behind the kpop group. \n",
    "As a result, we will now dive into the perception these fans have towards YG entertainment as a company managing Blackpink. "
   ]
  },
  {
   "cell_type": "code",
   "execution_count": 259,
   "metadata": {},
   "outputs": [
    {
     "name": "stdout",
     "output_type": "stream",
     "text": [
      "Blackpink subreddit: it just boils down to lack of information from official sources   insert classic yg meme about how awful he is at handling this stuff  but i guess at this point all we can do is wait and see what happens\n"
     ]
    }
   ],
   "source": [
    "print(f'Blackpink subreddit: {bp_bts_df.body[20]}')"
   ]
  },
  {
   "cell_type": "code",
   "execution_count": 260,
   "metadata": {},
   "outputs": [
    {
     "name": "stdout",
     "output_type": "stream",
     "text": [
      "Blackpink subreddit: why do i have to always love yg groups   it hurts so much because any other management would give a group this successful a full album and solos for all the members already  i am excited for this ep  i just want blackpink to be as successful as possible because they are amazing \n"
     ]
    }
   ],
   "source": [
    "print(f'Blackpink subreddit: {bp_bts_df.body[835]}')"
   ]
  },
  {
   "cell_type": "code",
   "execution_count": 261,
   "metadata": {},
   "outputs": [
    {
     "name": "stdout",
     "output_type": "stream",
     "text": [
      "Bts subreddit:  excludes yg  hahaha i laughed way to hard at that\n"
     ]
    }
   ],
   "source": [
    "print(f'Bts subreddit: {bp_bts_df.body[18656]}')"
   ]
  },
  {
   "cell_type": "markdown",
   "metadata": {},
   "source": [
    "Overall, many fans of Blackpink seem to have issues with the management (or rather lack of) of YG when it comes to handling their groups' promotion, specifically Blackpink. Generally if YG Ent. is mentioned, many comments within the Blackpink subreddit give a similar sentiment towards YG as the two examples listed above. They bring up the fact that Blackpink never received a full album that contains more than 2-3 songs at a time. This is also Blackpink's first comeback since their EP titled 'Square Up' over a year ago (which was also their first official EP)! In a saturated industry where competition is always blooming and the public attention on a particular successful group is rarely ever deeply-perserved for a long time, it seems many fans are frusterated over YG's lack of consistently promoting Blackpink throughout the year to capitalize on their current trend/success.\n",
    "\n",
    "This negative sentiment seems to translate into fans of other kpop groups, as a fan from a Bts subreddit relishes the possibility that YG is no longer among the 'Big 3' entertainment companies of South Korea. [source](https://www.allkpop.com/article/2019/03/yg-entertainment-has-officially-lost-their-big-3-status)"
   ]
  },
  {
   "cell_type": "markdown",
   "metadata": {},
   "source": [
    "Next we will do the same with the comments from the Bts subreddit by fitting and transforming the body of comments from only Bts subreddit. Then by converting the word vector into a sparse dataframe consisting of the top 100 words as its' columns, we will be able to use this for form another plot."
   ]
  },
  {
   "cell_type": "code",
   "execution_count": 262,
   "metadata": {},
   "outputs": [],
   "source": [
    "bts_body = bp_bts_df[bp_bts_df['blackpink'] == 0]['body']"
   ]
  },
  {
   "cell_type": "code",
   "execution_count": 263,
   "metadata": {},
   "outputs": [],
   "source": [
    "bts_cvec= cvec.fit_transform(bts_body)"
   ]
  },
  {
   "cell_type": "code",
   "execution_count": 264,
   "metadata": {},
   "outputs": [],
   "source": [
    "bts_df = pd.SparseDataFrame(bts_cvec,\n",
    "                             columns=cvec.get_feature_names())"
   ]
  },
  {
   "cell_type": "code",
   "execution_count": 265,
   "metadata": {},
   "outputs": [
    {
     "data": {
      "text/html": [
       "<div>\n",
       "<style scoped>\n",
       "    .dataframe tbody tr th:only-of-type {\n",
       "        vertical-align: middle;\n",
       "    }\n",
       "\n",
       "    .dataframe tbody tr th {\n",
       "        vertical-align: top;\n",
       "    }\n",
       "\n",
       "    .dataframe thead th {\n",
       "        text-align: right;\n",
       "    }\n",
       "</style>\n",
       "<table border=\"1\" class=\"dataframe\">\n",
       "  <thead>\n",
       "    <tr style=\"text-align: right;\">\n",
       "      <th></th>\n",
       "      <th>actually</th>\n",
       "      <th>album</th>\n",
       "      <th>already</th>\n",
       "      <th>always</th>\n",
       "      <th>anyone</th>\n",
       "      <th>army</th>\n",
       "      <th>back</th>\n",
       "      <th>best</th>\n",
       "      <th>better</th>\n",
       "      <th>big</th>\n",
       "      <th>...</th>\n",
       "      <th>time</th>\n",
       "      <th>two</th>\n",
       "      <th>us</th>\n",
       "      <th>version</th>\n",
       "      <th>video</th>\n",
       "      <th>want</th>\n",
       "      <th>way</th>\n",
       "      <th>work</th>\n",
       "      <th>x200b</th>\n",
       "      <th>yes</th>\n",
       "    </tr>\n",
       "  </thead>\n",
       "  <tbody>\n",
       "    <tr>\n",
       "      <th>0</th>\n",
       "      <td>NaN</td>\n",
       "      <td>NaN</td>\n",
       "      <td>NaN</td>\n",
       "      <td>NaN</td>\n",
       "      <td>NaN</td>\n",
       "      <td>NaN</td>\n",
       "      <td>NaN</td>\n",
       "      <td>NaN</td>\n",
       "      <td>NaN</td>\n",
       "      <td>NaN</td>\n",
       "      <td>...</td>\n",
       "      <td>NaN</td>\n",
       "      <td>NaN</td>\n",
       "      <td>NaN</td>\n",
       "      <td>NaN</td>\n",
       "      <td>NaN</td>\n",
       "      <td>NaN</td>\n",
       "      <td>NaN</td>\n",
       "      <td>NaN</td>\n",
       "      <td>NaN</td>\n",
       "      <td>NaN</td>\n",
       "    </tr>\n",
       "    <tr>\n",
       "      <th>1</th>\n",
       "      <td>NaN</td>\n",
       "      <td>NaN</td>\n",
       "      <td>NaN</td>\n",
       "      <td>NaN</td>\n",
       "      <td>NaN</td>\n",
       "      <td>NaN</td>\n",
       "      <td>NaN</td>\n",
       "      <td>NaN</td>\n",
       "      <td>NaN</td>\n",
       "      <td>NaN</td>\n",
       "      <td>...</td>\n",
       "      <td>NaN</td>\n",
       "      <td>NaN</td>\n",
       "      <td>NaN</td>\n",
       "      <td>NaN</td>\n",
       "      <td>NaN</td>\n",
       "      <td>NaN</td>\n",
       "      <td>NaN</td>\n",
       "      <td>NaN</td>\n",
       "      <td>NaN</td>\n",
       "      <td>NaN</td>\n",
       "    </tr>\n",
       "    <tr>\n",
       "      <th>2</th>\n",
       "      <td>NaN</td>\n",
       "      <td>NaN</td>\n",
       "      <td>NaN</td>\n",
       "      <td>NaN</td>\n",
       "      <td>NaN</td>\n",
       "      <td>NaN</td>\n",
       "      <td>NaN</td>\n",
       "      <td>NaN</td>\n",
       "      <td>NaN</td>\n",
       "      <td>NaN</td>\n",
       "      <td>...</td>\n",
       "      <td>NaN</td>\n",
       "      <td>NaN</td>\n",
       "      <td>NaN</td>\n",
       "      <td>NaN</td>\n",
       "      <td>NaN</td>\n",
       "      <td>NaN</td>\n",
       "      <td>NaN</td>\n",
       "      <td>NaN</td>\n",
       "      <td>NaN</td>\n",
       "      <td>NaN</td>\n",
       "    </tr>\n",
       "    <tr>\n",
       "      <th>3</th>\n",
       "      <td>NaN</td>\n",
       "      <td>NaN</td>\n",
       "      <td>NaN</td>\n",
       "      <td>NaN</td>\n",
       "      <td>NaN</td>\n",
       "      <td>NaN</td>\n",
       "      <td>NaN</td>\n",
       "      <td>NaN</td>\n",
       "      <td>NaN</td>\n",
       "      <td>NaN</td>\n",
       "      <td>...</td>\n",
       "      <td>NaN</td>\n",
       "      <td>NaN</td>\n",
       "      <td>NaN</td>\n",
       "      <td>NaN</td>\n",
       "      <td>NaN</td>\n",
       "      <td>NaN</td>\n",
       "      <td>NaN</td>\n",
       "      <td>NaN</td>\n",
       "      <td>NaN</td>\n",
       "      <td>NaN</td>\n",
       "    </tr>\n",
       "    <tr>\n",
       "      <th>4</th>\n",
       "      <td>NaN</td>\n",
       "      <td>NaN</td>\n",
       "      <td>NaN</td>\n",
       "      <td>NaN</td>\n",
       "      <td>NaN</td>\n",
       "      <td>NaN</td>\n",
       "      <td>NaN</td>\n",
       "      <td>NaN</td>\n",
       "      <td>NaN</td>\n",
       "      <td>NaN</td>\n",
       "      <td>...</td>\n",
       "      <td>NaN</td>\n",
       "      <td>NaN</td>\n",
       "      <td>NaN</td>\n",
       "      <td>NaN</td>\n",
       "      <td>NaN</td>\n",
       "      <td>NaN</td>\n",
       "      <td>NaN</td>\n",
       "      <td>NaN</td>\n",
       "      <td>NaN</td>\n",
       "      <td>NaN</td>\n",
       "    </tr>\n",
       "  </tbody>\n",
       "</table>\n",
       "<p>5 rows × 100 columns</p>\n",
       "</div>"
      ],
      "text/plain": [
       "   actually  album  already  always  anyone  army  back  best  better  big  \\\n",
       "0       NaN    NaN      NaN     NaN     NaN   NaN   NaN   NaN     NaN  NaN   \n",
       "1       NaN    NaN      NaN     NaN     NaN   NaN   NaN   NaN     NaN  NaN   \n",
       "2       NaN    NaN      NaN     NaN     NaN   NaN   NaN   NaN     NaN  NaN   \n",
       "3       NaN    NaN      NaN     NaN     NaN   NaN   NaN   NaN     NaN  NaN   \n",
       "4       NaN    NaN      NaN     NaN     NaN   NaN   NaN   NaN     NaN  NaN   \n",
       "\n",
       "   ...  time  two  us  version  video  want  way  work  x200b  yes  \n",
       "0  ...   NaN  NaN NaN      NaN    NaN   NaN  NaN   NaN    NaN  NaN  \n",
       "1  ...   NaN  NaN NaN      NaN    NaN   NaN  NaN   NaN    NaN  NaN  \n",
       "2  ...   NaN  NaN NaN      NaN    NaN   NaN  NaN   NaN    NaN  NaN  \n",
       "3  ...   NaN  NaN NaN      NaN    NaN   NaN  NaN   NaN    NaN  NaN  \n",
       "4  ...   NaN  NaN NaN      NaN    NaN   NaN  NaN   NaN    NaN  NaN  \n",
       "\n",
       "[5 rows x 100 columns]"
      ]
     },
     "execution_count": 265,
     "metadata": {},
     "output_type": "execute_result"
    }
   ],
   "source": [
    "bts_df.head()"
   ]
  },
  {
   "cell_type": "code",
   "execution_count": 266,
   "metadata": {},
   "outputs": [],
   "source": [
    "bts_df.fillna(0, inplace=True)"
   ]
  },
  {
   "cell_type": "code",
   "execution_count": 267,
   "metadata": {},
   "outputs": [],
   "source": [
    "bts_top_20 = bts_df.sum().sort_values(ascending = False).head(20)"
   ]
  },
  {
   "cell_type": "markdown",
   "metadata": {},
   "source": [
    "The following words below are the top 20 most frequently used words in the Bangtan (BTS) subreddit:"
   ]
  },
  {
   "cell_type": "code",
   "execution_count": 268,
   "metadata": {},
   "outputs": [
    {
     "data": {
      "text/plain": [
       "like       2293\n",
       "love       1383\n",
       "people      871\n",
       "get         808\n",
       "time        759\n",
       "good        682\n",
       "see         651\n",
       "music       571\n",
       "song        537\n",
       "want        528\n",
       "album       522\n",
       "tickets     513\n",
       "going       500\n",
       "day         498\n",
       "always      487\n",
       "lot         472\n",
       "us          468\n",
       "way         453\n",
       "feel        452\n",
       "got         440\n",
       "dtype: int64"
      ]
     },
     "execution_count": 268,
     "metadata": {},
     "output_type": "execute_result"
    }
   ],
   "source": [
    "bts_top_20"
   ]
  },
  {
   "cell_type": "code",
   "execution_count": 269,
   "metadata": {},
   "outputs": [
    {
     "data": {
      "text/plain": [
       "Text(0, 0.5, 'Words')"
      ]
     },
     "execution_count": 269,
     "metadata": {},
     "output_type": "execute_result"
    },
    {
     "data": {
      "image/png": "[encoded data removed]",
      "text/plain": [
       "<Figure size 1440x720 with 1 Axes>"
      ]
     },
     "metadata": {
      "needs_background": "light"
     },
     "output_type": "display_data"
    }
   ],
   "source": [
    "plt.figure(figsize=(20,10))\n",
    "plt.barh(bts_top_20.index, bts_top_20)\n",
    "plt.title('Top 20 words (BTS)', fontsize=30)\n",
    "plt.xlabel('Frequency', fontsize=20)\n",
    "plt.ylabel('Words', fontsize=20)"
   ]
  },
  {
   "cell_type": "code",
   "execution_count": 273,
   "metadata": {},
   "outputs": [
    {
     "data": {
      "text/plain": [
       "'okay so  as a musician who writes arrangements often  there are  so many ways to arrange the same song   usually the melody suits tons of different genres  keys  and tempos  next  it seems like bighit works by having multiple producers produce a track and then comparing to see which one is best  instead of everyone making one track together  bighit has many talented producers and they re each biased by their musical preferences  the result is that you ll probably get multiple versions remixes of the same song that sound  awesome   but if you release multiple versions on paid websites  it ll seem like you re indecisive  so what do they do  instead of scrapping everyone else s work  they release one version as the  teaser   if people don t like the teaser  no problem  the title track sounds very different  if they love the teaser  then they re more likely to check out the song  which helps publicity anyway  '"
      ]
     },
     "execution_count": 273,
     "metadata": {},
     "output_type": "execute_result"
    }
   ],
   "source": [
    "bp_bts_df.body[9581]"
   ]
  },
  {
   "cell_type": "code",
   "execution_count": 274,
   "metadata": {},
   "outputs": [
    {
     "data": {
      "text/plain": [
       "'thank u for this    it s kinda reassuring that everything will be fine in the end  still  bighit should never do this sudden tour announcement again  they should give enough time for the fans to save money and purchase tickets  not all can shell out money that fast    '"
      ]
     },
     "execution_count": 274,
     "metadata": {},
     "output_type": "execute_result"
    }
   ],
   "source": [
    "bp_bts_df.body[9982]"
   ]
  },
  {
   "cell_type": "markdown",
   "metadata": {},
   "source": [
    "Generally, many fans of BTS seems to center around the topic of 'music', 'song', 'album', and 'tickets'. This makes sense as BTS is also currently planning for a comeback as well as doing their world-tour. Many fans when talking about Bts' songs, enjoy the different genres/melodies they put out. This fan in particular seems to praise BigHit Ent. (the entertainment group behind BTS) for experimenting with different sounds. For the most part, Bts fans do not seem to have much issue with the management of BigHit when it comes to handling their BTS' promotion. Contrary to Blackpink subreddit, BTS fans seem to be satisfied with the activities of the group as one comment even points out that the management should not announce so many tours for he/she will not be able to 'shell out money that fast...' Unlike Blackpink, BTS released two songs last year with the most recent one being back in August of 2018. They are now about to release their new album after 7 months, containing full 7 tracks. BigHit seems to be promoting Bts consistently throughout the year to capitalize on their current trend/success."
   ]
  },
  {
   "cell_type": "markdown",
   "metadata": {},
   "source": [
    "## **Please continue to Notebook 04: Logistic Regression Model**"
   ]
  }
 ],
 "metadata": {
  "kernelspec": {
   "display_name": "Python 3",
   "language": "python",
   "name": "python3"
  },
  "language_info": {
   "codemirror_mode": {
    "name": "ipython",
    "version": 3
   },
   "file_extension": ".py",
   "mimetype": "text/x-python",
   "name": "python",
   "nbconvert_exporter": "python",
   "pygments_lexer": "ipython3",
   "version": "3.6.8"
  }
 },
 "nbformat": 4,
 "nbformat_minor": 2
}
