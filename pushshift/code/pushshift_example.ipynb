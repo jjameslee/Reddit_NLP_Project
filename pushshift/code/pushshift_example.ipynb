{
 "cells": [
  {
   "cell_type": "markdown",
   "metadata": {},
   "source": [
    "# Using the Pushshift API\n",
    "\n",
    "Pushshift is a service that archives and indexes Reddit at regular intervals. It allows for higher-level search functionality and querying for Reddit comments and submissions, facilitating data collection for analysis and modeling. It leverages the requests library to return a json response that can then be parsed for the data of interest.\n",
    "\n",
    "Resources: \n",
    "- Pushshift Endpoints: https://pushshift.io/\n",
    "- Pushshift Documentation: https://github.com/pushshift/api\n",
    "- Pushshift Subreddit: https://www.reddit.com/r/pushshift/comments/89pxra/pushshift_api_with_large_amounts_of_data/\n"
   ]
  },
  {
   "cell_type": "code",
   "execution_count": 5,
   "metadata": {},
   "outputs": [],
   "source": [
    "import requests, time, csv, json, re\n",
    "import pandas as pd"
   ]
  },
  {
   "cell_type": "markdown",
   "metadata": {},
   "source": [
    "## Setting the base query syntax:"
   ]
  },
  {
   "cell_type": "markdown",
   "metadata": {},
   "source": [
    "Setting the query url to the pushshift api"
   ]
  },
  {
   "cell_type": "code",
   "execution_count": 6,
   "metadata": {},
   "outputs": [],
   "source": [
    "url = 'https://api.pushshift.io/reddit/search/'"
   ]
  },
  {
   "cell_type": "markdown",
   "metadata": {},
   "source": [
    "Setting the parameters for the query. A full list of parameters can be found on: https://pushshift.io/api-parameters/"
   ]
  },
  {
   "cell_type": "code",
   "execution_count": 7,
   "metadata": {},
   "outputs": [],
   "source": [
    "params = {'searchType':'submission',\n",
    "          'subreddit':'conservative,libertarian',\n",
    "          'sort':'desc',\n",
    "          'size':10,\n",
    "#           'before':,\n",
    "#           'after':,\n",
    "         }"
   ]
  },
  {
   "cell_type": "markdown",
   "metadata": {},
   "source": [
    "Making the request."
   ]
  },
  {
   "cell_type": "code",
   "execution_count": 8,
   "metadata": {},
   "outputs": [],
   "source": [
    "response = requests.get(url, params=params)"
   ]
  },
  {
   "cell_type": "markdown",
   "metadata": {},
   "source": [
    "Checking the url to make sure the query terms are correct and the server is responsive"
   ]
  },
  {
   "cell_type": "code",
   "execution_count": 9,
   "metadata": {},
   "outputs": [
    {
     "data": {
      "text/plain": [
       "200"
      ]
     },
     "execution_count": 9,
     "metadata": {},
     "output_type": "execute_result"
    }
   ],
   "source": [
    "response.status_code"
   ]
  },
  {
   "cell_type": "markdown",
   "metadata": {},
   "source": [
    "The status code returned from the server is 200, meaning the query was accepted and there aren't any connection issues. Checking length of the json file."
   ]
  },
  {
   "cell_type": "code",
   "execution_count": 10,
   "metadata": {},
   "outputs": [
    {
     "data": {
      "text/plain": [
       "10"
      ]
     },
     "execution_count": 10,
     "metadata": {},
     "output_type": "execute_result"
    }
   ],
   "source": [
    "len(response.json()['data'])"
   ]
  },
  {
   "cell_type": "markdown",
   "metadata": {},
   "source": [
    "Length is 10, as expected. Assessing the file structure for keys of interest."
   ]
  },
  {
   "cell_type": "code",
   "execution_count": 11,
   "metadata": {},
   "outputs": [
    {
     "data": {
      "text/plain": [
       "{'data': [{'author': 'TheDailyCosco',\n",
       "   'author_flair_background_color': '',\n",
       "   'author_flair_css_class': 'Conservative',\n",
       "   'author_flair_richtext': [{'e': 'text', 't': 'Conservative'}],\n",
       "   'author_flair_template_id': '421b644c-8b38-11e1-bc5f-12313d18ad57',\n",
       "   'author_flair_text': 'Conservative',\n",
       "   'author_flair_text_color': 'dark',\n",
       "   'author_flair_type': 'richtext',\n",
       "   'author_fullname': 't2_30vro8jr',\n",
       "   'author_patreon_flair': False,\n",
       "   'body': \"Your son's history teacher isn't teaching history. They're also an idiot.\",\n",
       "   'created_utc': 1553726504,\n",
       "   'gildings': {'gid_1': 0, 'gid_2': 0, 'gid_3': 0},\n",
       "   'id': 'ejj4mia',\n",
       "   'link_id': 't3_b6aulk',\n",
       "   'no_follow': True,\n",
       "   'parent_id': 't3_b6aulk',\n",
       "   'permalink': '/r/Conservative/comments/b6aulk/my_sons_history_teacher_taught_him_that_the/ejj4mia/',\n",
       "   'retrieved_on': 1553726505,\n",
       "   'score': 1,\n",
       "   'send_replies': True,\n",
       "   'stickied': False,\n",
       "   'subreddit': 'Conservative',\n",
       "   'subreddit_id': 't5_2qh6p'},\n",
       "  {'author': '[deleted]',\n",
       "   'author_flair_background_color': '',\n",
       "   'author_flair_css_class': None,\n",
       "   'author_flair_template_id': None,\n",
       "   'author_flair_text': None,\n",
       "   'author_flair_text_color': 'dark',\n",
       "   'body': '[removed]',\n",
       "   'created_utc': 1553726495,\n",
       "   'gildings': {'gid_1': 0, 'gid_2': 0, 'gid_3': 0},\n",
       "   'id': 'ejj4m1b',\n",
       "   'link_id': 't3_b650hr',\n",
       "   'no_follow': True,\n",
       "   'parent_id': 't1_ejie09n',\n",
       "   'permalink': '/r/Conservative/comments/b650hr/funny_how_it_is_conservatives_who_must_accept/ejj4m1b/',\n",
       "   'retrieved_on': 1553726497,\n",
       "   'score': 1,\n",
       "   'send_replies': True,\n",
       "   'stickied': False,\n",
       "   'subreddit': 'Conservative',\n",
       "   'subreddit_id': 't5_2qh6p'},\n",
       "  {'author': 'PutinPaysTrump',\n",
       "   'author_flair_background_color': '',\n",
       "   'author_flair_css_class': None,\n",
       "   'author_flair_richtext': [{'e': 'text',\n",
       "     't': 'Take the guns first, due process later'}],\n",
       "   'author_flair_template_id': 'a1c701c6-1d82-11e2-a5e0-12313b0ce1e2',\n",
       "   'author_flair_text': 'Take the guns first, due process later',\n",
       "   'author_flair_text_color': 'dark',\n",
       "   'author_flair_type': 'richtext',\n",
       "   'author_fullname': 't2_uklnzm5',\n",
       "   'author_patreon_flair': False,\n",
       "   'body': \"Really lays it all bare, doesn't it?\",\n",
       "   'created_utc': 1553726474,\n",
       "   'gildings': {'gid_1': 0, 'gid_2': 0, 'gid_3': 0},\n",
       "   'id': 'ejj4kxv',\n",
       "   'link_id': 't3_b66e7z',\n",
       "   'no_follow': True,\n",
       "   'parent_id': 't1_ejj209s',\n",
       "   'permalink': '/r/Libertarian/comments/b66e7z/news_cardi_b_singer_drugged_and_robbed_men_after/ejj4kxv/',\n",
       "   'retrieved_on': 1553726476,\n",
       "   'score': 1,\n",
       "   'send_replies': True,\n",
       "   'stickied': False,\n",
       "   'subreddit': 'Libertarian',\n",
       "   'subreddit_id': 't5_2qh63'},\n",
       "  {'author': 'Sideswipe0009',\n",
       "   'author_flair_background_color': '',\n",
       "   'author_flair_css_class': None,\n",
       "   'author_flair_richtext': [{'e': 'text', 't': 'The Right is right'}],\n",
       "   'author_flair_template_id': None,\n",
       "   'author_flair_text': 'The Right is right',\n",
       "   'author_flair_text_color': 'dark',\n",
       "   'author_flair_type': 'richtext',\n",
       "   'author_fullname': 't2_1uhrusu4',\n",
       "   'author_patreon_flair': False,\n",
       "   'body': '&gt;So is an anti lynching bill bad?\\n\\nNo, but when you fake a hate crime to drum up support for a bill, it crosses the line.\\n\\n',\n",
       "   'created_utc': 1553726470,\n",
       "   'gildings': {'gid_1': 0, 'gid_2': 0, 'gid_3': 0},\n",
       "   'id': 'ejj4kpn',\n",
       "   'link_id': 't3_b648wx',\n",
       "   'no_follow': True,\n",
       "   'parent_id': 't1_ejinurg',\n",
       "   'permalink': '/r/Conservative/comments/b648wx/smollett_case_not_over_its_just_beginning_its/ejj4kpn/',\n",
       "   'retrieved_on': 1553726470,\n",
       "   'score': 1,\n",
       "   'send_replies': True,\n",
       "   'stickied': False,\n",
       "   'subreddit': 'Conservative',\n",
       "   'subreddit_id': 't5_2qh6p'},\n",
       "  {'author': 'CrazyLegs88',\n",
       "   'author_flair_background_color': None,\n",
       "   'author_flair_css_class': None,\n",
       "   'author_flair_richtext': [],\n",
       "   'author_flair_template_id': None,\n",
       "   'author_flair_text': None,\n",
       "   'author_flair_text_color': None,\n",
       "   'author_flair_type': 'text',\n",
       "   'author_fullname': 't2_6riag',\n",
       "   'author_patreon_flair': False,\n",
       "   'body': \"&gt; Not that complicated really.\\n\\nMmmkay. You're a dipshit.\\n\\n\",\n",
       "   'created_utc': 1553726458,\n",
       "   'gildings': {'gid_1': 0, 'gid_2': 0, 'gid_3': 0},\n",
       "   'id': 'ejj4k2d',\n",
       "   'link_id': 't3_b67txe',\n",
       "   'no_follow': True,\n",
       "   'parent_id': 't1_ejj3cdr',\n",
       "   'permalink': '/r/Libertarian/comments/b67txe/a_libertarian_attempts_to_go_on_a_date/ejj4k2d/',\n",
       "   'retrieved_on': 1553726459,\n",
       "   'score': 1,\n",
       "   'send_replies': True,\n",
       "   'stickied': False,\n",
       "   'subreddit': 'Libertarian',\n",
       "   'subreddit_id': 't5_2qh63'},\n",
       "  {'author': 'searanger62',\n",
       "   'author_flair_background_color': None,\n",
       "   'author_flair_css_class': None,\n",
       "   'author_flair_richtext': [],\n",
       "   'author_flair_template_id': None,\n",
       "   'author_flair_text': None,\n",
       "   'author_flair_text_color': None,\n",
       "   'author_flair_type': 'text',\n",
       "   'author_fullname': 't2_b6w3fhg',\n",
       "   'author_patreon_flair': False,\n",
       "   'body': 'He is as good as in. Any chance the Dems might have had will soon be erased by the parade of whackos they will trot out as candidates, and Trump is as good as elected.  Pence in 2024!',\n",
       "   'created_utc': 1553726424,\n",
       "   'gildings': {'gid_1': 0, 'gid_2': 0, 'gid_3': 0},\n",
       "   'id': 'ejj4ic3',\n",
       "   'link_id': 't3_b6aufo',\n",
       "   'no_follow': True,\n",
       "   'parent_id': 't3_b6aufo',\n",
       "   'permalink': '/r/Conservative/comments/b6aufo/poll_majority_of_registered_voters_are_open_to/ejj4ic3/',\n",
       "   'retrieved_on': 1553726425,\n",
       "   'score': 1,\n",
       "   'send_replies': True,\n",
       "   'stickied': False,\n",
       "   'subreddit': 'Conservative',\n",
       "   'subreddit_id': 't5_2qh6p'},\n",
       "  {'author': 'Makers_OnTheRocks',\n",
       "   'author_flair_background_color': '#f3c817',\n",
       "   'author_flair_css_class': None,\n",
       "   'author_flair_richtext': [{'e': 'text', 't': 'Right Libertarian'}],\n",
       "   'author_flair_template_id': 'b016ca8a-1cf2-11e2-97d4-12313b088941',\n",
       "   'author_flair_text': 'Right Libertarian',\n",
       "   'author_flair_text_color': 'dark',\n",
       "   'author_flair_type': 'richtext',\n",
       "   'author_fullname': 't2_2h0duxrq',\n",
       "   'author_patreon_flair': False,\n",
       "   'body': \"If you're being pulled over or questioned you are being detained. People who ask this are always stupid sovereign citizens. \",\n",
       "   'created_utc': 1553726374,\n",
       "   'gildings': {'gid_1': 0, 'gid_2': 0, 'gid_3': 0},\n",
       "   'id': 'ejj4fok',\n",
       "   'link_id': 't3_b63gmc',\n",
       "   'no_follow': True,\n",
       "   'parent_id': 't3_b63gmc',\n",
       "   'permalink': '/r/Libertarian/comments/b63gmc/sometimes_we_all_need_a_laugh/ejj4fok/',\n",
       "   'retrieved_on': 1553726375,\n",
       "   'score': 1,\n",
       "   'send_replies': True,\n",
       "   'stickied': False,\n",
       "   'subreddit': 'Libertarian',\n",
       "   'subreddit_id': 't5_2qh63'},\n",
       "  {'author': '[deleted]',\n",
       "   'author_flair_background_color': '',\n",
       "   'author_flair_css_class': None,\n",
       "   'author_flair_template_id': None,\n",
       "   'author_flair_text': None,\n",
       "   'author_flair_text_color': 'dark',\n",
       "   'body': '[removed]',\n",
       "   'created_utc': 1553726359,\n",
       "   'gildings': {'gid_1': 0, 'gid_2': 0, 'gid_3': 0},\n",
       "   'id': 'ejj4evx',\n",
       "   'link_id': 't3_b650hr',\n",
       "   'no_follow': True,\n",
       "   'parent_id': 't3_b650hr',\n",
       "   'permalink': '/r/Conservative/comments/b650hr/funny_how_it_is_conservatives_who_must_accept/ejj4evx/',\n",
       "   'retrieved_on': 1553726360,\n",
       "   'score': 1,\n",
       "   'send_replies': True,\n",
       "   'stickied': False,\n",
       "   'subreddit': 'Conservative',\n",
       "   'subreddit_id': 't5_2qh6p'},\n",
       "  {'author': 'HouseOfPanic',\n",
       "   'author_flair_background_color': None,\n",
       "   'author_flair_css_class': None,\n",
       "   'author_flair_richtext': [],\n",
       "   'author_flair_template_id': None,\n",
       "   'author_flair_text': None,\n",
       "   'author_flair_text_color': None,\n",
       "   'author_flair_type': 'text',\n",
       "   'author_fullname': 't2_16su1e',\n",
       "   'author_patreon_flair': False,\n",
       "   'body': 'Obstructing Justice Under Federal Jurisdiction\\n\\nObstruction of justice is defined by federal statute as any \"interference with the orderly administration of law and justice\" and governed by 18 U.S.C. §§ 1501-1521. Federal code identifies more than 20 specific types of obstruction, including \"Obstruction of proceedings before departments, agencies, and committees\" (18 U.S.C. § 1505), the specific code section cited in the Nixon and Clinton articles of impeachment.\\n\\nOther ways an individual may commit this offense include, but are not limited to, the following acts:\\n\\nInfluencing or injuring an officer or juror generally (18 U.S.C. § 1503)\\nObstruction of criminal investigations (18 U.S.C. § 1510)\\nTampering with a witness, victim, or an informant (18 U.S.C. § 1512)\\nRetaliating against a witness, victim, or an informant (18 U.S.C. § 1513)\\nDestruction of corporate audit records (18 U.S.C. § 1520)\\nThe crime can take any number of forms, whether it\\'s bribery, tampering with evidence, lying to investigators, abusing one\\'s power, or some other act intended to impede a criminal investigation. The federal obstruction of justice statute is written broadly and focuses more on the effect (or intended effect) of a particular action rather than the specific act itself. Therefore, seemingly innocuous acts could be construed as criminal activity if they have the intended effect of impeding justice.',\n",
       "   'created_utc': 1553726359,\n",
       "   'gildings': {'gid_1': 0, 'gid_2': 0, 'gid_3': 0},\n",
       "   'id': 'ejj4evc',\n",
       "   'link_id': 't3_b650hr',\n",
       "   'no_follow': True,\n",
       "   'parent_id': 't1_ejim88l',\n",
       "   'permalink': '/r/Conservative/comments/b650hr/funny_how_it_is_conservatives_who_must_accept/ejj4evc/',\n",
       "   'retrieved_on': 1553726360,\n",
       "   'score': 1,\n",
       "   'send_replies': True,\n",
       "   'stickied': False,\n",
       "   'subreddit': 'Conservative',\n",
       "   'subreddit_id': 't5_2qh6p'},\n",
       "  {'author': 'rmlrmlchess',\n",
       "   'author_flair_background_color': None,\n",
       "   'author_flair_css_class': None,\n",
       "   'author_flair_richtext': [],\n",
       "   'author_flair_template_id': None,\n",
       "   'author_flair_text': None,\n",
       "   'author_flair_text_color': None,\n",
       "   'author_flair_type': 'text',\n",
       "   'author_fullname': 't2_1ej8zkwz',\n",
       "   'author_patreon_flair': False,\n",
       "   'body': \"You don't seem to be listening\",\n",
       "   'created_utc': 1553726351,\n",
       "   'gildings': {'gid_1': 0, 'gid_2': 0, 'gid_3': 0},\n",
       "   'id': 'ejj4ehd',\n",
       "   'link_id': 't3_b650hr',\n",
       "   'no_follow': True,\n",
       "   'parent_id': 't1_ejiqudp',\n",
       "   'permalink': '/r/Conservative/comments/b650hr/funny_how_it_is_conservatives_who_must_accept/ejj4ehd/',\n",
       "   'retrieved_on': 1553726353,\n",
       "   'score': 1,\n",
       "   'send_replies': True,\n",
       "   'stickied': False,\n",
       "   'subreddit': 'Conservative',\n",
       "   'subreddit_id': 't5_2qh6p'}]}"
      ]
     },
     "execution_count": 11,
     "metadata": {},
     "output_type": "execute_result"
    }
   ],
   "source": [
    "response.json()"
   ]
  },
  {
   "cell_type": "markdown",
   "metadata": {},
   "source": [
    "Keys of interest are:\n",
    "- author\n",
    "- body\n",
    "- created_utc\n",
    "- link_id\n",
    "- parent_id\n",
    "- permalink\n",
    "- subreddit\n",
    "- subreddit_id"
   ]
  },
  {
   "cell_type": "code",
   "execution_count": 12,
   "metadata": {},
   "outputs": [],
   "source": [
    "col_list = ['author',\n",
    "            'body',\n",
    "            'subreddit',\n",
    "            'subreddit_id',\n",
    "            'created_utc',\n",
    "            'retrieved_on',\n",
    "            'link_id',\n",
    "            'parent_id',\n",
    "            'permalink',\n",
    "            ]"
   ]
  },
  {
   "cell_type": "markdown",
   "metadata": {},
   "source": [
    " ## Querying Reddit and saving raw data in .json format:"
   ]
  },
  {
   "cell_type": "markdown",
   "metadata": {},
   "source": [
    "Writing a function for creating a logfile and formatting file names with a unique timestamp."
   ]
  },
  {
   "cell_type": "code",
   "execution_count": 13,
   "metadata": {},
   "outputs": [],
   "source": [
    "def filename_format_log(file_path, \n",
    "                        logfile = '../assets/file_log.txt', \n",
    "                        now = round(time.time()), \n",
    "                        file_description = None): \n",
    "   \n",
    "    try:\n",
    "        ext = re.search('(?<!^)(?<!\\.)\\.(?!\\.)', file_path).start() \n",
    "    except:\n",
    "        raise NameError('Please enter a relative path with a file extension.') \n",
    "    \n",
    "    stamp = re.search('(?<!^)(?<!\\.)[a-z]+_[a-z]+(?=\\.)', file_path).start()\n",
    "    formatted_name = f'{file_path[:stamp]}{now}_{file_path[stamp:]}'  \n",
    "    if not file_description:\n",
    "        file_description = f'Pull: {time.asctime(time.gmtime(now))}'\n",
    "    with open(logfile, 'a+') as f:\n",
    "        f.write(f'{formatted_name}: {file_description}\\n')\n",
    "    return formatted_name, now, file_description"
   ]
  },
  {
   "cell_type": "markdown",
   "metadata": {},
   "source": [
    "Writing a function for collecting comments and parsing into a dataframe with the features of interest, saving out the raw data for each pull. Request loop inspired: [(Source)](https://www.reddit.com/r/pushshift/comments/89pxra/pushshift_api_with_large_amounts_of_data/)."
   ]
  },
  {
   "cell_type": "code",
   "execution_count": 20,
   "metadata": {},
   "outputs": [],
   "source": [
    "def reddit_query(subreddits, n_samples=1500, searchType='comment', before=None, after=None):\n",
    "    url = f'https://api.pushshift.io/reddit/search/'\n",
    "    last_comment = round(time.time())\n",
    "    comment_list = []\n",
    "    \n",
    "    run = 1\n",
    "    while len(comment_list) < n_samples:\n",
    "        \n",
    "        try:\n",
    "            print(f'Starting query {run}')\n",
    "            \n",
    "            params = {'searchType':searchType,\n",
    "              'subreddit':subreddits,\n",
    "              'sort':'desc',\n",
    "              'size':1000,\n",
    "              'before':last_comment-1,\n",
    "              'after':after,\n",
    "             }\n",
    "                \n",
    "            response = requests.get(url, params = params)\n",
    "            posts = response.json()['data']\n",
    "            \n",
    "            if len(posts) == 0:\n",
    "                last_comment = last_comment\n",
    "            else:\n",
    "                last_comment = posts[-1]['created_utc']\n",
    "                comment_list.extend(posts)\n",
    "                timestamp = posts[-1]['created_utc']\n",
    "                time.sleep(1) \n",
    "                run += 1\n",
    "        except:\n",
    "            if response.status_code != 200:\n",
    "                return f'Check status. Error code: {response.status_code}'\n",
    "            else:\n",
    "                return 'Error. Pull not completed.'\n",
    "    \n",
    "    formatted_name, now, file_description = filename_format_log(file_path =f'../data/raw_{searchType}s.json', now=timestamp)\n",
    "    with open(formatted_name, 'w+') as f:\n",
    "        json.dump(comment_list, f)\n",
    "    \n",
    "    print(f'Saved and completed query and returned {len(comment_list)} {searchType}s.')\n",
    "    print(f'Reddit text is ready for processing.')\n",
    "    return print(f'Last timestamp was {timestamp}.')"
   ]
  },
  {
   "cell_type": "markdown",
   "metadata": {},
   "source": [
    "Using the query function to collect 15 comments from the conservative subreddit."
   ]
  },
  {
   "cell_type": "code",
   "execution_count": 21,
   "metadata": {},
   "outputs": [
    {
     "name": "stdout",
     "output_type": "stream",
     "text": [
      "Starting query 1\n",
      "Saved and completed query and returned 15 comments.\n",
      "Reddit text is ready for processing.\n",
      "Last timestamp was 1553726115.\n"
     ]
    }
   ],
   "source": [
    "reddit_query(subreddits='conservative',\n",
    "             n_samples=15,\n",
    "             searchType='comment')"
   ]
  },
  {
   "cell_type": "code",
   "execution_count": 26,
   "metadata": {},
   "outputs": [],
   "source": [
    "with open(f'../data/1553726115_raw_comments.json', 'r') as f:\n",
    "    cons_sample_list = json.load(f)"
   ]
  },
  {
   "cell_type": "code",
   "execution_count": 27,
   "metadata": {},
   "outputs": [
    {
     "data": {
      "text/plain": [
       "15"
      ]
     },
     "execution_count": 27,
     "metadata": {},
     "output_type": "execute_result"
    }
   ],
   "source": [
    "len(cons_sample_list)"
   ]
  },
  {
   "cell_type": "code",
   "execution_count": 28,
   "metadata": {},
   "outputs": [
    {
     "data": {
      "text/plain": [
       "{'author': 'banes_rule_of_two',\n",
       " 'author_flair_background_color': None,\n",
       " 'author_flair_css_class': None,\n",
       " 'author_flair_richtext': [],\n",
       " 'author_flair_template_id': None,\n",
       " 'author_flair_text': None,\n",
       " 'author_flair_text_color': None,\n",
       " 'author_flair_type': 'text',\n",
       " 'author_fullname': 't2_x1rvf',\n",
       " 'author_patreon_flair': False,\n",
       " 'body': \"And Christians get a lot of shit for that. I'm not going to defend Christianity, I'm not a Christian. You asserted that Islam is fair and just. I've pointed out some evil shit that Islam endorses and promotes that leads me to conclude that Islam is also evil.\",\n",
       " 'created_utc': 1553726582,\n",
       " 'gildings': {'gid_1': 0, 'gid_2': 0, 'gid_3': 0},\n",
       " 'id': 'ejj4qpr',\n",
       " 'link_id': 't3_b5tngt',\n",
       " 'no_follow': True,\n",
       " 'parent_id': 't1_ejizf2k',\n",
       " 'permalink': '/r/Conservative/comments/b5tngt/the_uk/ejj4qpr/',\n",
       " 'retrieved_on': 1553726583,\n",
       " 'score': 1,\n",
       " 'send_replies': True,\n",
       " 'stickied': False,\n",
       " 'subreddit': 'Conservative',\n",
       " 'subreddit_id': 't5_2qh6p'}"
      ]
     },
     "execution_count": 28,
     "metadata": {},
     "output_type": "execute_result"
    }
   ],
   "source": [
    "cons_sample_list[0]"
   ]
  },
  {
   "cell_type": "markdown",
   "metadata": {},
   "source": [
    "Parsing the json file into a dataframe containing the features of interest."
   ]
  },
  {
   "cell_type": "code",
   "execution_count": 29,
   "metadata": {},
   "outputs": [],
   "source": [
    "def reddit_parse(sample):\n",
    "    \n",
    "    col_list = ['author',\n",
    "                'body',\n",
    "                'subreddit',\n",
    "                'subreddit_id',\n",
    "                'created_utc',\n",
    "                'link_id',\n",
    "                'parent_id',\n",
    "                'permalink',\n",
    "                ]\n",
    "    \n",
    "    comments_df = pd.DataFrame(sample)\n",
    "    comments_df = comments_df[col_list]\n",
    "    \n",
    "    comments_df.rename(columns={'subreddit':'libertarian'}, inplace=True)\n",
    "    comments_df['libertarian'] = comments_df['libertarian'].map({'Conservative':0, 'Libertarian':1})\n",
    "    \n",
    "    col_order = ['author',\n",
    "                 'body',\n",
    "                 'libertarian',\n",
    "                 'created_utc',\n",
    "                 'subreddit_id',\n",
    "                 'parent_id',\n",
    "                 'link_id',\n",
    "                 'permalink',\n",
    "                ]\n",
    "\n",
    "    return comments_df[col_order]"
   ]
  },
  {
   "cell_type": "markdown",
   "metadata": {},
   "source": [
    "Reviewing the shape of the dataframe to ensure correct transformation"
   ]
  },
  {
   "cell_type": "code",
   "execution_count": 30,
   "metadata": {},
   "outputs": [],
   "source": [
    "cons_comments = reddit_parse(cons_sample_list)"
   ]
  },
  {
   "cell_type": "code",
   "execution_count": null,
   "metadata": {},
   "outputs": [],
   "source": []
  },
  {
   "cell_type": "code",
   "execution_count": 31,
   "metadata": {},
   "outputs": [
    {
     "ename": "NameError",
     "evalue": "name 'cons_comments_df' is not defined",
     "output_type": "error",
     "traceback": [
      "\u001b[0;31m---------------------------------------------------------------------------\u001b[0m",
      "\u001b[0;31mNameError\u001b[0m                                 Traceback (most recent call last)",
      "\u001b[0;32m<ipython-input-31-2afa766f88f7>\u001b[0m in \u001b[0;36m<module>\u001b[0;34m\u001b[0m\n\u001b[0;32m----> 1\u001b[0;31m \u001b[0mcons_comments_df\u001b[0m\u001b[0;34m.\u001b[0m\u001b[0mshape\u001b[0m\u001b[0;34m\u001b[0m\u001b[0;34m\u001b[0m\u001b[0m\n\u001b[0m",
      "\u001b[0;31mNameError\u001b[0m: name 'cons_comments_df' is not defined"
     ]
    }
   ],
   "source": [
    "cons_comments_df.shape"
   ]
  },
  {
   "cell_type": "markdown",
   "metadata": {},
   "source": [
    "Shape corresponds with expected values. Reviewing the head of the dataframe to ensure data was correctly labeled. "
   ]
  },
  {
   "cell_type": "code",
   "execution_count": 44,
   "metadata": {},
   "outputs": [
    {
     "data": {
      "text/html": [
       "<div>\n",
       "<style scoped>\n",
       "    .dataframe tbody tr th:only-of-type {\n",
       "        vertical-align: middle;\n",
       "    }\n",
       "\n",
       "    .dataframe tbody tr th {\n",
       "        vertical-align: top;\n",
       "    }\n",
       "\n",
       "    .dataframe thead th {\n",
       "        text-align: right;\n",
       "    }\n",
       "</style>\n",
       "<table border=\"1\" class=\"dataframe\">\n",
       "  <thead>\n",
       "    <tr style=\"text-align: right;\">\n",
       "      <th></th>\n",
       "      <th>author</th>\n",
       "      <th>body</th>\n",
       "      <th>libertarian</th>\n",
       "      <th>created_on</th>\n",
       "      <th>retrieved_on</th>\n",
       "      <th>created_utc</th>\n",
       "      <th>subreddit_id</th>\n",
       "      <th>parent_id</th>\n",
       "      <th>link_id</th>\n",
       "      <th>permalink</th>\n",
       "    </tr>\n",
       "  </thead>\n",
       "  <tbody>\n",
       "    <tr>\n",
       "      <th>0</th>\n",
       "      <td>rojindahar</td>\n",
       "      <td>He already does Ketamine, 58 second mark: http...</td>\n",
       "      <td>0</td>\n",
       "      <td>Sun Dec 16 01:14:01 2018</td>\n",
       "      <td>Sun Dec 16 01:14:10 2018</td>\n",
       "      <td>1544922841</td>\n",
       "      <td>t5_2qh6p</td>\n",
       "      <td>t3_a6krv2</td>\n",
       "      <td>t3_a6krv2</td>\n",
       "      <td>/r/Conservative/comments/a6krv2/10yearold_boy_...</td>\n",
       "    </tr>\n",
       "    <tr>\n",
       "      <th>1</th>\n",
       "      <td>[deleted]</td>\n",
       "      <td>[removed]</td>\n",
       "      <td>0</td>\n",
       "      <td>Sun Dec 16 01:13:28 2018</td>\n",
       "      <td>Sun Dec 16 01:13:39 2018</td>\n",
       "      <td>1544922808</td>\n",
       "      <td>t5_2qh6p</td>\n",
       "      <td>t1_ebvclrz</td>\n",
       "      <td>t3_a6icni</td>\n",
       "      <td>/r/Conservative/comments/a6icni/to_guarantee_a...</td>\n",
       "    </tr>\n",
       "    <tr>\n",
       "      <th>2</th>\n",
       "      <td>[deleted]</td>\n",
       "      <td>[removed]</td>\n",
       "      <td>0</td>\n",
       "      <td>Sun Dec 16 01:13:15 2018</td>\n",
       "      <td>Sun Dec 16 01:13:26 2018</td>\n",
       "      <td>1544922795</td>\n",
       "      <td>t5_2qh6p</td>\n",
       "      <td>t1_ebvg44o</td>\n",
       "      <td>t3_a6icni</td>\n",
       "      <td>/r/Conservative/comments/a6icni/to_guarantee_a...</td>\n",
       "    </tr>\n",
       "    <tr>\n",
       "      <th>3</th>\n",
       "      <td>leadrain86</td>\n",
       "      <td>Actually that is quite the opposite. Conservat...</td>\n",
       "      <td>0</td>\n",
       "      <td>Sun Dec 16 01:13:09 2018</td>\n",
       "      <td>Sun Dec 16 01:13:20 2018</td>\n",
       "      <td>1544922789</td>\n",
       "      <td>t5_2qh6p</td>\n",
       "      <td>t1_ebvhrk2</td>\n",
       "      <td>t3_a6a7h7</td>\n",
       "      <td>/r/Conservative/comments/a6a7h7/one_year_ago_t...</td>\n",
       "    </tr>\n",
       "    <tr>\n",
       "      <th>4</th>\n",
       "      <td>[deleted]</td>\n",
       "      <td>[removed]</td>\n",
       "      <td>0</td>\n",
       "      <td>Sun Dec 16 01:11:49 2018</td>\n",
       "      <td>Sun Dec 16 01:12:00 2018</td>\n",
       "      <td>1544922709</td>\n",
       "      <td>t5_2qh6p</td>\n",
       "      <td>t3_a4llsj</td>\n",
       "      <td>t3_a4llsj</td>\n",
       "      <td>/r/Conservative/comments/a4llsj/keep_tyrants_l...</td>\n",
       "    </tr>\n",
       "  </tbody>\n",
       "</table>\n",
       "</div>"
      ],
      "text/plain": [
       "       author                                               body  libertarian  \\\n",
       "0  rojindahar  He already does Ketamine, 58 second mark: http...            0   \n",
       "1   [deleted]                                          [removed]            0   \n",
       "2   [deleted]                                          [removed]            0   \n",
       "3  leadrain86  Actually that is quite the opposite. Conservat...            0   \n",
       "4   [deleted]                                          [removed]            0   \n",
       "\n",
       "                 created_on              retrieved_on  created_utc  \\\n",
       "0  Sun Dec 16 01:14:01 2018  Sun Dec 16 01:14:10 2018   1544922841   \n",
       "1  Sun Dec 16 01:13:28 2018  Sun Dec 16 01:13:39 2018   1544922808   \n",
       "2  Sun Dec 16 01:13:15 2018  Sun Dec 16 01:13:26 2018   1544922795   \n",
       "3  Sun Dec 16 01:13:09 2018  Sun Dec 16 01:13:20 2018   1544922789   \n",
       "4  Sun Dec 16 01:11:49 2018  Sun Dec 16 01:12:00 2018   1544922709   \n",
       "\n",
       "  subreddit_id   parent_id    link_id  \\\n",
       "0     t5_2qh6p   t3_a6krv2  t3_a6krv2   \n",
       "1     t5_2qh6p  t1_ebvclrz  t3_a6icni   \n",
       "2     t5_2qh6p  t1_ebvg44o  t3_a6icni   \n",
       "3     t5_2qh6p  t1_ebvhrk2  t3_a6a7h7   \n",
       "4     t5_2qh6p   t3_a4llsj  t3_a4llsj   \n",
       "\n",
       "                                           permalink  \n",
       "0  /r/Conservative/comments/a6krv2/10yearold_boy_...  \n",
       "1  /r/Conservative/comments/a6icni/to_guarantee_a...  \n",
       "2  /r/Conservative/comments/a6icni/to_guarantee_a...  \n",
       "3  /r/Conservative/comments/a6a7h7/one_year_ago_t...  \n",
       "4  /r/Conservative/comments/a4llsj/keep_tyrants_l...  "
      ]
     },
     "execution_count": 44,
     "metadata": {},
     "output_type": "execute_result"
    }
   ],
   "source": [
    "cons_comments_df.head()"
   ]
  }
 ],
 "metadata": {
  "kernelspec": {
   "display_name": "Python 3",
   "language": "python",
   "name": "python3"
  },
  "language_info": {
   "codemirror_mode": {
    "name": "ipython",
    "version": 3
   },
   "file_extension": ".py",
   "mimetype": "text/x-python",
   "name": "python",
   "nbconvert_exporter": "python",
   "pygments_lexer": "ipython3",
   "version": "3.6.8"
  }
 },
 "nbformat": 4,
 "nbformat_minor": 2
}
